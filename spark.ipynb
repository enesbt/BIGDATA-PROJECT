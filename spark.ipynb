{
 "cells": [
  {
   "cell_type": "code",
   "execution_count": 80,
   "metadata": {},
   "outputs": [],
   "source": [
    "from pyspark.sql import SparkSession\n",
    "import pandas as pd\n",
    "from pyspark.sql.functions import col\n",
    "import matplotlib.pyplot as plt"
   ]
  },
  {
   "cell_type": "code",
   "execution_count": 81,
   "metadata": {},
   "outputs": [
    {
     "name": "stdout",
     "output_type": "stream",
     "text": [
      "+-------------+----+-----------+--------+---+------+----------+-----+---------+-------+---+---------+--------+----+----+----+---------+-------+------------+----+-----------+\n",
      "|battery_power|blue|clock_speed|dual_sim| fc|four_g|int_memory|m_dep|mobile_wt|n_cores| pc|px_height|px_width| ram|sc_h|sc_w|talk_time|three_g|touch_screen|wifi|price_range|\n",
      "+-------------+----+-----------+--------+---+------+----------+-----+---------+-------+---+---------+--------+----+----+----+---------+-------+------------+----+-----------+\n",
      "|          842|   0|        2.2|       0|  1|     0|         7|  0.6|      188|      2|  2|       20|     756|2549|   9|   7|       19|      0|           0|   1|          1|\n",
      "|         1021|   1|        0.5|       1|  0|     1|        53|  0.7|      136|      3|  6|      905|    1988|2631|  17|   3|        7|      1|           1|   0|          2|\n",
      "|          563|   1|        0.5|       1|  2|     1|        41|  0.9|      145|      5|  6|     1263|    1716|2603|  11|   2|        9|      1|           1|   0|          2|\n",
      "|          615|   1|        2.5|       0|  0|     0|        10|  0.8|      131|      6|  9|     1216|    1786|2769|  16|   8|       11|      1|           0|   0|          2|\n",
      "|         1821|   1|        1.2|       0| 13|     1|        44|  0.6|      141|      2| 14|     1208|    1212|1411|   8|   2|       15|      1|           1|   0|          1|\n",
      "|         1859|   0|        0.5|       1|  3|     0|        22|  0.7|      164|      1|  7|     1004|    1654|1067|  17|   1|       10|      1|           0|   0|          1|\n",
      "|         1821|   0|        1.7|       0|  4|     1|        10|  0.8|      139|      8| 10|      381|    1018|3220|  13|   8|       18|      1|           0|   1|          3|\n",
      "|         1954|   0|        0.5|       1|  0|     0|        24|  0.8|      187|      4|  0|      512|    1149| 700|  16|   3|        5|      1|           1|   1|          0|\n",
      "|         1445|   1|        0.5|       0|  0|     0|        53|  0.7|      174|      7| 14|      386|     836|1099|  17|   1|       20|      1|           0|   0|          0|\n",
      "|          509|   1|        0.6|       1|  2|     1|         9|  0.1|       93|      5| 15|     1137|    1224| 513|  19|  10|       12|      1|           0|   0|          0|\n",
      "|          769|   1|        2.9|       1|  0|     0|         9|  0.1|      182|      5|  1|      248|     874|3946|   5|   2|        7|      0|           0|   0|          3|\n",
      "|         1520|   1|        2.2|       0|  5|     1|        33|  0.5|      177|      8| 18|      151|    1005|3826|  14|   9|       13|      1|           1|   1|          3|\n",
      "|         1815|   0|        2.8|       0|  2|     0|        33|  0.6|      159|      4| 17|      607|     748|1482|  18|   0|        2|      1|           0|   0|          1|\n",
      "|          803|   1|        2.1|       0|  7|     0|        17|  1.0|      198|      4| 11|      344|    1440|2680|   7|   1|        4|      1|           0|   1|          2|\n",
      "|         1866|   0|        0.5|       0| 13|     1|        52|  0.7|      185|      1| 17|      356|     563| 373|  14|   9|        3|      1|           0|   1|          0|\n",
      "|          775|   0|        1.0|       0|  3|     0|        46|  0.7|      159|      2| 16|      862|    1864| 568|  17|  15|       11|      1|           1|   1|          0|\n",
      "|          838|   0|        0.5|       0|  1|     1|        13|  0.1|      196|      8|  4|      984|    1850|3554|  10|   9|       19|      1|           0|   1|          3|\n",
      "|          595|   0|        0.9|       1|  7|     1|        23|  0.1|      121|      3| 17|      441|     810|3752|  10|   2|       18|      1|           1|   0|          3|\n",
      "|         1131|   1|        0.5|       1| 11|     0|        49|  0.6|      101|      5| 18|      658|     878|1835|  19|  13|       16|      1|           1|   0|          1|\n",
      "|          682|   1|        0.5|       0|  4|     0|        19|  1.0|      121|      4| 11|      902|    1064|2337|  11|   1|       18|      0|           1|   1|          1|\n",
      "+-------------+----+-----------+--------+---+------+----------+-----+---------+-------+---+---------+--------+----+----+----+---------+-------+------------+----+-----------+\n",
      "only showing top 20 rows\n",
      "\n"
     ]
    }
   ],
   "source": [
    "\n",
    "# Spark Session oluşturma\n",
    "spark = SparkSession.builder.appName('project').getOrCreate()\n",
    "\n",
    "# CSV dosyasını Spark DataFrame'e yükleme\n",
    "data = spark.read.csv('data.csv', header=True, inferSchema=True)\n",
    "\n",
    "# Veri setini gösterme\n",
    "data.show()\n",
    "\n",
    "\n"
   ]
  },
  {
   "cell_type": "code",
   "execution_count": 82,
   "metadata": {},
   "outputs": [
    {
     "name": "stdout",
     "output_type": "stream",
     "text": [
      "################## Dataframe Head ##################\n",
      "+-------------+----+-----------+--------+---+------+----------+-----+---------+-------+---+---------+--------+----+----+----+---------+-------+------------+----+-----------+\n",
      "|battery_power|blue|clock_speed|dual_sim| fc|four_g|int_memory|m_dep|mobile_wt|n_cores| pc|px_height|px_width| ram|sc_h|sc_w|talk_time|three_g|touch_screen|wifi|price_range|\n",
      "+-------------+----+-----------+--------+---+------+----------+-----+---------+-------+---+---------+--------+----+----+----+---------+-------+------------+----+-----------+\n",
      "|          842|   0|        2.2|       0|  1|     0|         7|  0.6|      188|      2|  2|       20|     756|2549|   9|   7|       19|      0|           0|   1|          1|\n",
      "|         1021|   1|        0.5|       1|  0|     1|        53|  0.7|      136|      3|  6|      905|    1988|2631|  17|   3|        7|      1|           1|   0|          2|\n",
      "|          563|   1|        0.5|       1|  2|     1|        41|  0.9|      145|      5|  6|     1263|    1716|2603|  11|   2|        9|      1|           1|   0|          2|\n",
      "|          615|   1|        2.5|       0|  0|     0|        10|  0.8|      131|      6|  9|     1216|    1786|2769|  16|   8|       11|      1|           0|   0|          2|\n",
      "|         1821|   1|        1.2|       0| 13|     1|        44|  0.6|      141|      2| 14|     1208|    1212|1411|   8|   2|       15|      1|           1|   0|          1|\n",
      "+-------------+----+-----------+--------+---+------+----------+-----+---------+-------+---+---------+--------+----+----+----+---------+-------+------------+----+-----------+\n",
      "only showing top 5 rows\n",
      "\n",
      "################## Dataframe Schema ##################\n",
      "root\n",
      " |-- battery_power: integer (nullable = true)\n",
      " |-- blue: integer (nullable = true)\n",
      " |-- clock_speed: double (nullable = true)\n",
      " |-- dual_sim: integer (nullable = true)\n",
      " |-- fc: integer (nullable = true)\n",
      " |-- four_g: integer (nullable = true)\n",
      " |-- int_memory: integer (nullable = true)\n",
      " |-- m_dep: double (nullable = true)\n",
      " |-- mobile_wt: integer (nullable = true)\n",
      " |-- n_cores: integer (nullable = true)\n",
      " |-- pc: integer (nullable = true)\n",
      " |-- px_height: integer (nullable = true)\n",
      " |-- px_width: integer (nullable = true)\n",
      " |-- ram: integer (nullable = true)\n",
      " |-- sc_h: integer (nullable = true)\n",
      " |-- sc_w: integer (nullable = true)\n",
      " |-- talk_time: integer (nullable = true)\n",
      " |-- three_g: integer (nullable = true)\n",
      " |-- touch_screen: integer (nullable = true)\n",
      " |-- wifi: integer (nullable = true)\n",
      " |-- price_range: integer (nullable = true)\n",
      "\n",
      "################## Dataframe Summary ##################\n",
      "+-------+-----------------+------------------+------------------+------------------+-----------------+-------------------+------------------+------------------+-----------------+------------------+-----------------+------------------+-----------------+------------------+-----------------+-----------------+-----------------+-----------------+------------------+------------------+------------------+\n",
      "|summary|    battery_power|              blue|       clock_speed|          dual_sim|               fc|             four_g|        int_memory|             m_dep|        mobile_wt|           n_cores|               pc|         px_height|         px_width|               ram|             sc_h|             sc_w|        talk_time|          three_g|      touch_screen|              wifi|       price_range|\n",
      "+-------+-----------------+------------------+------------------+------------------+-----------------+-------------------+------------------+------------------+-----------------+------------------+-----------------+------------------+-----------------+------------------+-----------------+-----------------+-----------------+-----------------+------------------+------------------+------------------+\n",
      "|  count|             2000|              2000|              2000|              2000|             2000|               2000|              2000|              2000|             2000|              2000|             2000|              2000|             2000|              2000|             2000|             2000|             2000|             2000|              2000|              2000|              2000|\n",
      "|   mean|        1238.5185|             0.495|1.5222499999999983|            0.5095|           4.3095|             0.5215|           32.0465|0.5017500000000017|          140.249|            4.5205|           9.9165|           645.108|        1251.5155|          2124.213|          12.3065|            5.767|           11.011|           0.7615|             0.503|             0.507|               1.5|\n",
      "| stddev|439.4182060835313|0.5001000400170073| 0.816004208895068|0.5000347661750049|4.341443747983898|0.49966246736236364|18.145714955206856|0.2884155496235117|35.39965489638834|2.2878367180426618|6.064314941347778|443.78081080643824|432.1994469463379|1084.7320436099492|4.213245004356303|4.356397605826408|5.463955197766688|0.426272922318731|0.5001160445626741|0.5000760322381088|1.1183136021064597|\n",
      "|    min|              501|                 0|               0.5|                 0|                0|                  0|                 2|               0.1|               80|                 1|                0|                 0|              500|               256|                5|                0|                2|                0|                 0|                 0|                 0|\n",
      "|    max|             1998|                 1|               3.0|                 1|               19|                  1|                64|               1.0|              200|                 8|               20|              1960|             1998|              3998|               19|               18|               20|                1|                 1|                 1|                 3|\n",
      "+-------+-----------------+------------------+------------------+------------------+-----------------+-------------------+------------------+------------------+-----------------+------------------+-----------------+------------------+-----------------+------------------+-----------------+-----------------+-----------------+-----------------+------------------+------------------+------------------+\n",
      "\n",
      "################## Dataframe Columns ##################\n",
      "['battery_power', 'blue', 'clock_speed', 'dual_sim', 'fc', 'four_g', 'int_memory', 'm_dep', 'mobile_wt', 'n_cores', 'pc', 'px_height', 'px_width', 'ram', 'sc_h', 'sc_w', 'talk_time', 'three_g', 'touch_screen', 'wifi', 'price_range']\n",
      "################## Dataframe Shape ##################\n",
      "(2000, 21)\n",
      "################## Isnull sum() ##################\n",
      "battery_power : 0\n",
      "blue : 0\n",
      "clock_speed : 0\n",
      "dual_sim : 0\n",
      "fc : 0\n",
      "four_g : 0\n",
      "int_memory : 0\n",
      "m_dep : 0\n",
      "mobile_wt : 0\n",
      "n_cores : 0\n",
      "pc : 0\n",
      "px_height : 0\n",
      "px_width : 0\n",
      "ram : 0\n",
      "sc_h : 0\n",
      "sc_w : 0\n",
      "talk_time : 0\n",
      "three_g : 0\n",
      "touch_screen : 0\n",
      "wifi : 0\n",
      "price_range : 0\n"
     ]
    }
   ],
   "source": [
    "\n",
    "\n",
    "def DataInfo(dataframe, head=5):\n",
    "    # Dataframe'in ilk kısmını gösterme\n",
    "    print(\"################## Dataframe Head ##################\")\n",
    "    dataframe.show(head)\n",
    "    \n",
    "    # Dataframe'in yapısal bilgilerini gösterme\n",
    "    print(\"################## Dataframe Schema ##################\")\n",
    "    dataframe.printSchema()\n",
    "    \n",
    "    # Dataframe'in istatistiksel özetini gösterme\n",
    "    print(\"################## Dataframe Summary ##################\")\n",
    "    dataframe.describe().show()\n",
    "    \n",
    "    # Dataframe'in sütunlarını gösterme\n",
    "    print(\"################## Dataframe Columns ##################\")\n",
    "    print(dataframe.columns)\n",
    "    \n",
    "    # Dataframe'in satır ve sütun sayısını gösterme\n",
    "    print(\"################## Dataframe Shape ##################\")\n",
    "    print((dataframe.count(), len(dataframe.columns)))\n",
    "    \n",
    "    # Eksik değer sayısını gösterme\n",
    "    print(\"################## Isnull sum() ##################\")\n",
    "    for col in dataframe.columns:\n",
    "        print(col, \":\", dataframe.filter(dataframe[col].isNull()).count())\n",
    "\n",
    "# Fonksiyonu çağırma\n",
    "DataInfo(data)"
   ]
  },
  {
   "cell_type": "code",
   "execution_count": 83,
   "metadata": {},
   "outputs": [
    {
     "name": "stdout",
     "output_type": "stream",
     "text": [
      "Observations: 2000\n",
      "Variables: 21\n",
      "cat_cols: 8\n",
      "num_cols: 13\n",
      "cat_but_car: 0\n",
      "num_but_cat: 8\n"
     ]
    }
   ],
   "source": [
    "def grab_col_names(dataframe, cat_th=10, car_th=20):\n",
    "    # Kategorik sütunları toplama\n",
    "    cat_cols = [col for col in dataframe.columns if dataframe.select(col).distinct().count() < cat_th]\n",
    "    \n",
    "    # Sayısal ancak kategorik sütunları toplama\n",
    "    num_but_cat = [col for col in dataframe.columns if (dataframe.select(col).distinct().count() < cat_th) and (dataframe.select(col).dtypes != 'string')]\n",
    "    \n",
    "    # Kategorik ancak sayısal sütunları toplama\n",
    "    cat_but_car = [col for col in dataframe.columns if (dataframe.select(col).distinct().count() > car_th) and (dataframe.select(col).dtypes == 'string')]\n",
    "    \n",
    "    # Kategorik sütunları birleştirme\n",
    "    cat_cols = list(set(num_but_cat + cat_cols))\n",
    "    cat_cols = [col for col in cat_cols if col not in cat_but_car]\n",
    "    \n",
    "    # Sayısal sütunları toplama\n",
    "    num_cols = [col for col in dataframe.columns if col not in cat_cols and col not in cat_but_car]\n",
    "    \n",
    "    print(f\"Observations: {dataframe.count()}\")\n",
    "    print(f\"Variables: {len(dataframe.columns)}\")\n",
    "    print(f'cat_cols: {len(cat_cols)}')\n",
    "    print(f'num_cols: {len(num_cols)}')\n",
    "    print(f'cat_but_car: {len(cat_but_car)}')\n",
    "    print(f'num_but_cat: {len(num_but_cat)}')\n",
    "\n",
    "    return cat_cols, num_cols, cat_but_car\n",
    "\n",
    "cat_cols,num_cols,cat_but_car =grab_col_names(data)"
   ]
  },
  {
   "cell_type": "code",
   "execution_count": 84,
   "metadata": {},
   "outputs": [
    {
     "data": {
      "text/plain": [
       "['four_g',\n",
       " 'wifi',\n",
       " 'three_g',\n",
       " 'blue',\n",
       " 'n_cores',\n",
       " 'touch_screen',\n",
       " 'dual_sim',\n",
       " 'price_range']"
      ]
     },
     "execution_count": 84,
     "metadata": {},
     "output_type": "execute_result"
    }
   ],
   "source": [
    "cat_cols"
   ]
  },
  {
   "cell_type": "code",
   "execution_count": 85,
   "metadata": {},
   "outputs": [
    {
     "data": {
      "text/plain": [
       "['battery_power',\n",
       " 'clock_speed',\n",
       " 'fc',\n",
       " 'int_memory',\n",
       " 'm_dep',\n",
       " 'mobile_wt',\n",
       " 'pc',\n",
       " 'px_height',\n",
       " 'px_width',\n",
       " 'ram',\n",
       " 'sc_h',\n",
       " 'sc_w',\n",
       " 'talk_time']"
      ]
     },
     "execution_count": 85,
     "metadata": {},
     "output_type": "execute_result"
    }
   ],
   "source": [
    "num_cols"
   ]
  },
  {
   "cell_type": "code",
   "execution_count": 86,
   "metadata": {},
   "outputs": [
    {
     "name": "stdout",
     "output_type": "stream",
     "text": [
      "+------+-----+\n",
      "|four_g|count|\n",
      "+------+-----+\n",
      "|     1| 1043|\n",
      "|     0|  957|\n",
      "+------+-----+\n",
      "\n",
      "+----+-----+\n",
      "|wifi|count|\n",
      "+----+-----+\n",
      "|   1| 1014|\n",
      "|   0|  986|\n",
      "+----+-----+\n",
      "\n",
      "+-------+-----+\n",
      "|three_g|count|\n",
      "+-------+-----+\n",
      "|      1| 1523|\n",
      "|      0|  477|\n",
      "+-------+-----+\n",
      "\n",
      "+----+-----+\n",
      "|blue|count|\n",
      "+----+-----+\n",
      "|   1|  990|\n",
      "|   0| 1010|\n",
      "+----+-----+\n",
      "\n",
      "+-------+-----+\n",
      "|n_cores|count|\n",
      "+-------+-----+\n",
      "|      1|  242|\n",
      "|      6|  230|\n",
      "|      3|  246|\n",
      "|      5|  246|\n",
      "|      4|  274|\n",
      "|      8|  256|\n",
      "|      7|  259|\n",
      "|      2|  247|\n",
      "+-------+-----+\n",
      "\n",
      "+------------+-----+\n",
      "|touch_screen|count|\n",
      "+------------+-----+\n",
      "|           1| 1006|\n",
      "|           0|  994|\n",
      "+------------+-----+\n",
      "\n",
      "+--------+-----+\n",
      "|dual_sim|count|\n",
      "+--------+-----+\n",
      "|       1| 1019|\n",
      "|       0|  981|\n",
      "+--------+-----+\n",
      "\n",
      "+-----------+-----+\n",
      "|price_range|count|\n",
      "+-----------+-----+\n",
      "|          1|  500|\n",
      "|          3|  500|\n",
      "|          2|  500|\n",
      "|          0|  500|\n",
      "+-----------+-----+\n",
      "\n"
     ]
    }
   ],
   "source": [
    "#kategorik değişken analizi\n",
    "def cat_summary(dataframe, col_name):\n",
    "    # Sütun için değer sayılarını ve oranlarını hesaplama\n",
    "    col_counts = dataframe.groupBy(col_name).count()\n",
    "    \n",
    "    # Verileri gösterme\n",
    "    col_counts.show()\n",
    "\n",
    "for col in cat_cols:\n",
    "    cat_summary(data,col)\n",
    "    "
   ]
  },
  {
   "cell_type": "code",
   "execution_count": 87,
   "metadata": {},
   "outputs": [
    {
     "name": "stdout",
     "output_type": "stream",
     "text": [
      "+-------+-----------------+\n",
      "|summary|    battery_power|\n",
      "+-------+-----------------+\n",
      "|  count|             2000|\n",
      "|   mean|        1238.5185|\n",
      "| stddev|439.4182060835313|\n",
      "|    min|              501|\n",
      "|    max|             1998|\n",
      "+-------+-----------------+\n",
      "\n"
     ]
    },
    {
     "data": {
      "image/png": "[encoded data removed]",
      "text/plain": [
       "<Figure size 640x480 with 1 Axes>"
      ]
     },
     "metadata": {},
     "output_type": "display_data"
    },
    {
     "name": "stdout",
     "output_type": "stream",
     "text": [
      "#####################################\n",
      "+-------+------------------+\n",
      "|summary|       clock_speed|\n",
      "+-------+------------------+\n",
      "|  count|              2000|\n",
      "|   mean|1.5222499999999983|\n",
      "| stddev| 0.816004208895068|\n",
      "|    min|               0.5|\n",
      "|    max|               3.0|\n",
      "+-------+------------------+\n",
      "\n"
     ]
    },
    {
     "data": {
      "image/png": "[encoded data removed]",
      "text/plain": [
       "<Figure size 640x480 with 1 Axes>"
      ]
     },
     "metadata": {},
     "output_type": "display_data"
    },
    {
     "name": "stdout",
     "output_type": "stream",
     "text": [
      "#####################################\n",
      "+-------+-----------------+\n",
      "|summary|               fc|\n",
      "+-------+-----------------+\n",
      "|  count|             2000|\n",
      "|   mean|           4.3095|\n",
      "| stddev|4.341443747983898|\n",
      "|    min|                0|\n",
      "|    max|               19|\n",
      "+-------+-----------------+\n",
      "\n"
     ]
    },
    {
     "data": {
      "image/png": "[encoded data removed]",
      "text/plain": [
       "<Figure size 640x480 with 1 Axes>"
      ]
     },
     "metadata": {},
     "output_type": "display_data"
    },
    {
     "name": "stdout",
     "output_type": "stream",
     "text": [
      "#####################################\n",
      "+-------+------------------+\n",
      "|summary|        int_memory|\n",
      "+-------+------------------+\n",
      "|  count|              2000|\n",
      "|   mean|           32.0465|\n",
      "| stddev|18.145714955206856|\n",
      "|    min|                 2|\n",
      "|    max|                64|\n",
      "+-------+------------------+\n",
      "\n"
     ]
    },
    {
     "data": {
      "image/png": "[encoded data removed]",
      "text/plain": [
       "<Figure size 640x480 with 1 Axes>"
      ]
     },
     "metadata": {},
     "output_type": "display_data"
    },
    {
     "name": "stdout",
     "output_type": "stream",
     "text": [
      "#####################################\n",
      "+-------+------------------+\n",
      "|summary|             m_dep|\n",
      "+-------+------------------+\n",
      "|  count|              2000|\n",
      "|   mean|0.5017500000000017|\n",
      "| stddev|0.2884155496235117|\n",
      "|    min|               0.1|\n",
      "|    max|               1.0|\n",
      "+-------+------------------+\n",
      "\n"
     ]
    },
    {
     "data": {
      "image/png": "[encoded data removed]",
      "text/plain": [
       "<Figure size 640x480 with 1 Axes>"
      ]
     },
     "metadata": {},
     "output_type": "display_data"
    },
    {
     "name": "stdout",
     "output_type": "stream",
     "text": [
      "#####################################\n",
      "+-------+-----------------+\n",
      "|summary|        mobile_wt|\n",
      "+-------+-----------------+\n",
      "|  count|             2000|\n",
      "|   mean|          140.249|\n",
      "| stddev|35.39965489638834|\n",
      "|    min|               80|\n",
      "|    max|              200|\n",
      "+-------+-----------------+\n",
      "\n"
     ]
    },
    {
     "data": {
      "image/png": "[encoded data removed]",
      "text/plain": [
       "<Figure size 640x480 with 1 Axes>"
      ]
     },
     "metadata": {},
     "output_type": "display_data"
    },
    {
     "name": "stdout",
     "output_type": "stream",
     "text": [
      "#####################################\n",
      "+-------+-----------------+\n",
      "|summary|               pc|\n",
      "+-------+-----------------+\n",
      "|  count|             2000|\n",
      "|   mean|           9.9165|\n",
      "| stddev|6.064314941347778|\n",
      "|    min|                0|\n",
      "|    max|               20|\n",
      "+-------+-----------------+\n",
      "\n"
     ]
    },
    {
     "data": {
      "image/png": "[encoded data removed]",
      "text/plain": [
       "<Figure size 640x480 with 1 Axes>"
      ]
     },
     "metadata": {},
     "output_type": "display_data"
    },
    {
     "name": "stdout",
     "output_type": "stream",
     "text": [
      "#####################################\n",
      "+-------+------------------+\n",
      "|summary|         px_height|\n",
      "+-------+------------------+\n",
      "|  count|              2000|\n",
      "|   mean|           645.108|\n",
      "| stddev|443.78081080643824|\n",
      "|    min|                 0|\n",
      "|    max|              1960|\n",
      "+-------+------------------+\n",
      "\n"
     ]
    },
    {
     "data": {
      "image/png": "[encoded data removed]",
      "text/plain": [
       "<Figure size 640x480 with 1 Axes>"
      ]
     },
     "metadata": {},
     "output_type": "display_data"
    },
    {
     "name": "stdout",
     "output_type": "stream",
     "text": [
      "#####################################\n",
      "+-------+-----------------+\n",
      "|summary|         px_width|\n",
      "+-------+-----------------+\n",
      "|  count|             2000|\n",
      "|   mean|        1251.5155|\n",
      "| stddev|432.1994469463379|\n",
      "|    min|              500|\n",
      "|    max|             1998|\n",
      "+-------+-----------------+\n",
      "\n"
     ]
    },
    {
     "data": {
      "image/png": "[encoded data removed]",
      "text/plain": [
       "<Figure size 640x480 with 1 Axes>"
      ]
     },
     "metadata": {},
     "output_type": "display_data"
    },
    {
     "name": "stdout",
     "output_type": "stream",
     "text": [
      "#####################################\n",
      "+-------+------------------+\n",
      "|summary|               ram|\n",
      "+-------+------------------+\n",
      "|  count|              2000|\n",
      "|   mean|          2124.213|\n",
      "| stddev|1084.7320436099492|\n",
      "|    min|               256|\n",
      "|    max|              3998|\n",
      "+-------+------------------+\n",
      "\n"
     ]
    },
    {
     "data": {
      "image/png": "[encoded data removed]",
      "text/plain": [
       "<Figure size 640x480 with 1 Axes>"
      ]
     },
     "metadata": {},
     "output_type": "display_data"
    },
    {
     "name": "stdout",
     "output_type": "stream",
     "text": [
      "#####################################\n",
      "+-------+-----------------+\n",
      "|summary|             sc_h|\n",
      "+-------+-----------------+\n",
      "|  count|             2000|\n",
      "|   mean|          12.3065|\n",
      "| stddev|4.213245004356303|\n",
      "|    min|                5|\n",
      "|    max|               19|\n",
      "+-------+-----------------+\n",
      "\n"
     ]
    },
    {
     "data": {
      "image/png": "[encoded data removed]",
      "text/plain": [
       "<Figure size 640x480 with 1 Axes>"
      ]
     },
     "metadata": {},
     "output_type": "display_data"
    },
    {
     "name": "stdout",
     "output_type": "stream",
     "text": [
      "#####################################\n",
      "+-------+-----------------+\n",
      "|summary|             sc_w|\n",
      "+-------+-----------------+\n",
      "|  count|             2000|\n",
      "|   mean|            5.767|\n",
      "| stddev|4.356397605826408|\n",
      "|    min|                0|\n",
      "|    max|               18|\n",
      "+-------+-----------------+\n",
      "\n"
     ]
    },
    {
     "data": {
      "image/png": "[encoded data removed]",
      "text/plain": [
       "<Figure size 640x480 with 1 Axes>"
      ]
     },
     "metadata": {},
     "output_type": "display_data"
    },
    {
     "name": "stdout",
     "output_type": "stream",
     "text": [
      "#####################################\n",
      "+-------+-----------------+\n",
      "|summary|        talk_time|\n",
      "+-------+-----------------+\n",
      "|  count|             2000|\n",
      "|   mean|           11.011|\n",
      "| stddev|5.463955197766688|\n",
      "|    min|                2|\n",
      "|    max|               20|\n",
      "+-------+-----------------+\n",
      "\n"
     ]
    },
    {
     "data": {
      "image/png": "[encoded data removed]",
      "text/plain": [
       "<Figure size 640x480 with 1 Axes>"
      ]
     },
     "metadata": {},
     "output_type": "display_data"
    },
    {
     "name": "stdout",
     "output_type": "stream",
     "text": [
      "#####################################\n"
     ]
    }
   ],
   "source": [
    "#numeric değişken analizi\n",
    "\n",
    "def num_summary(dataframe, col):\n",
    "    summary = dataframe.select(col).describe()\n",
    "    summary.show()\n",
    "    \n",
    "    pandas_df = dataframe.select(col).toPandas()\n",
    "    plt.hist(pandas_df[col], bins=50)\n",
    "    plt.xlabel(col)\n",
    "    plt.title(col)\n",
    "    plt.show()\n",
    "    \n",
    "    print(\"#####################################\")\n",
    "\n",
    "for col in num_cols:\n",
    "    num_summary(data,col)"
   ]
  },
  {
   "cell_type": "code",
   "execution_count": 88,
   "metadata": {},
   "outputs": [],
   "source": [
    "#aykiri deger analizi\n",
    "def outlier_thresholds(dataframe, col_name, q1=0.05, q3=0.95):\n",
    "    quartile1 = dataframe[col_name].quantile(q1)\n",
    "    quartile3 = dataframe[col_name].quantile(q3)\n",
    "    interquantile_range = quartile3 - quartile1\n",
    "    up_limit = quartile3 + 1.5 * interquantile_range\n",
    "    low_limit = quartile1 - 1.5 * interquantile_range\n",
    "    return low_limit, up_limit\n",
    "\n",
    "\n",
    "def check_outlier(dataframe, col_name):\n",
    "    low_limit, up_limit = outlier_thresholds(dataframe, col_name)\n",
    "    if dataframe[(dataframe[col_name] > up_limit) | (dataframe[col_name] < low_limit)].any(axis=None):\n",
    "        return True\n",
    "    else:\n",
    "        return False"
   ]
  },
  {
   "cell_type": "code",
   "execution_count": 89,
   "metadata": {},
   "outputs": [
    {
     "name": "stdout",
     "output_type": "stream",
     "text": [
      "battery_power False\n",
      "clock_speed False\n",
      "fc False\n",
      "int_memory False\n",
      "m_dep False\n",
      "mobile_wt False\n",
      "pc False\n",
      "px_height False\n",
      "px_width False\n",
      "ram False\n",
      "sc_h False\n",
      "sc_w False\n",
      "talk_time False\n"
     ]
    }
   ],
   "source": [
    "pandas_df = data.toPandas()\n",
    "for col in num_cols:\n",
    "    print(col, check_outlier(pandas_df, col))"
   ]
  },
  {
   "cell_type": "code",
   "execution_count": 106,
   "metadata": {},
   "outputs": [
    {
     "data": {
      "text/html": [
       "<div>\n",
       "<style scoped>\n",
       "    .dataframe tbody tr th:only-of-type {\n",
       "        vertical-align: middle;\n",
       "    }\n",
       "\n",
       "    .dataframe tbody tr th {\n",
       "        vertical-align: top;\n",
       "    }\n",
       "\n",
       "    .dataframe thead th {\n",
       "        text-align: right;\n",
       "    }\n",
       "</style>\n",
       "<table border=\"1\" class=\"dataframe\">\n",
       "  <thead>\n",
       "    <tr style=\"text-align: right;\">\n",
       "      <th></th>\n",
       "      <th>battery_power</th>\n",
       "      <th>clock_speed</th>\n",
       "      <th>fc</th>\n",
       "      <th>int_memory</th>\n",
       "      <th>m_dep</th>\n",
       "      <th>mobile_wt</th>\n",
       "      <th>pc</th>\n",
       "      <th>px_height</th>\n",
       "      <th>px_width</th>\n",
       "      <th>ram</th>\n",
       "      <th>sc_h</th>\n",
       "      <th>sc_w</th>\n",
       "      <th>talk_time</th>\n",
       "    </tr>\n",
       "  </thead>\n",
       "  <tbody>\n",
       "    <tr>\n",
       "      <th>0</th>\n",
       "      <td>0.227789</td>\n",
       "      <td>0.68</td>\n",
       "      <td>0.052632</td>\n",
       "      <td>0.080645</td>\n",
       "      <td>0.555556</td>\n",
       "      <td>0.900000</td>\n",
       "      <td>0.10</td>\n",
       "      <td>0.010204</td>\n",
       "      <td>0.170895</td>\n",
       "      <td>0.612774</td>\n",
       "      <td>0.285714</td>\n",
       "      <td>0.388889</td>\n",
       "      <td>0.944444</td>\n",
       "    </tr>\n",
       "    <tr>\n",
       "      <th>1</th>\n",
       "      <td>0.347361</td>\n",
       "      <td>0.00</td>\n",
       "      <td>0.000000</td>\n",
       "      <td>0.822581</td>\n",
       "      <td>0.666667</td>\n",
       "      <td>0.466667</td>\n",
       "      <td>0.30</td>\n",
       "      <td>0.461735</td>\n",
       "      <td>0.993324</td>\n",
       "      <td>0.634687</td>\n",
       "      <td>0.857143</td>\n",
       "      <td>0.166667</td>\n",
       "      <td>0.277778</td>\n",
       "    </tr>\n",
       "    <tr>\n",
       "      <th>2</th>\n",
       "      <td>0.041416</td>\n",
       "      <td>0.00</td>\n",
       "      <td>0.105263</td>\n",
       "      <td>0.629032</td>\n",
       "      <td>0.888889</td>\n",
       "      <td>0.541667</td>\n",
       "      <td>0.30</td>\n",
       "      <td>0.644388</td>\n",
       "      <td>0.811749</td>\n",
       "      <td>0.627205</td>\n",
       "      <td>0.428571</td>\n",
       "      <td>0.111111</td>\n",
       "      <td>0.388889</td>\n",
       "    </tr>\n",
       "    <tr>\n",
       "      <th>3</th>\n",
       "      <td>0.076152</td>\n",
       "      <td>0.80</td>\n",
       "      <td>0.000000</td>\n",
       "      <td>0.129032</td>\n",
       "      <td>0.777778</td>\n",
       "      <td>0.425000</td>\n",
       "      <td>0.45</td>\n",
       "      <td>0.620408</td>\n",
       "      <td>0.858478</td>\n",
       "      <td>0.671566</td>\n",
       "      <td>0.785714</td>\n",
       "      <td>0.444444</td>\n",
       "      <td>0.500000</td>\n",
       "    </tr>\n",
       "    <tr>\n",
       "      <th>4</th>\n",
       "      <td>0.881764</td>\n",
       "      <td>0.28</td>\n",
       "      <td>0.684211</td>\n",
       "      <td>0.677419</td>\n",
       "      <td>0.555556</td>\n",
       "      <td>0.508333</td>\n",
       "      <td>0.70</td>\n",
       "      <td>0.616327</td>\n",
       "      <td>0.475300</td>\n",
       "      <td>0.308658</td>\n",
       "      <td>0.214286</td>\n",
       "      <td>0.111111</td>\n",
       "      <td>0.722222</td>\n",
       "    </tr>\n",
       "  </tbody>\n",
       "</table>\n",
       "</div>"
      ],
      "text/plain": [
       "   battery_power  clock_speed        fc  int_memory     m_dep  mobile_wt  \\\n",
       "0       0.227789         0.68  0.052632    0.080645  0.555556   0.900000   \n",
       "1       0.347361         0.00  0.000000    0.822581  0.666667   0.466667   \n",
       "2       0.041416         0.00  0.105263    0.629032  0.888889   0.541667   \n",
       "3       0.076152         0.80  0.000000    0.129032  0.777778   0.425000   \n",
       "4       0.881764         0.28  0.684211    0.677419  0.555556   0.508333   \n",
       "\n",
       "     pc  px_height  px_width       ram      sc_h      sc_w  talk_time  \n",
       "0  0.10   0.010204  0.170895  0.612774  0.285714  0.388889   0.944444  \n",
       "1  0.30   0.461735  0.993324  0.634687  0.857143  0.166667   0.277778  \n",
       "2  0.30   0.644388  0.811749  0.627205  0.428571  0.111111   0.388889  \n",
       "3  0.45   0.620408  0.858478  0.671566  0.785714  0.444444   0.500000  \n",
       "4  0.70   0.616327  0.475300  0.308658  0.214286  0.111111   0.722222  "
      ]
     },
     "execution_count": 106,
     "metadata": {},
     "output_type": "execute_result"
    }
   ],
   "source": [
    "#normalizasyon\n",
    "from sklearn.preprocessing import MinMaxScaler\n",
    "pandas_df = data.toPandas()\n",
    "\n",
    "numeric_data = pandas_df[num_cols]\n",
    "\n",
    "# Min-Max Normalizasyonu için bir MinMaxScaler nesnesi oluşturalım\n",
    "scaler = MinMaxScaler()\n",
    "\n",
    "# Normalizasyon işlemini gerçekleştirelim\n",
    "scaled_data = scaler.fit_transform(numeric_data)\n",
    "\n",
    "# Normalleştirilmiş verileri yeni bir DataFrame olarak oluşturalım\n",
    "scaled_df = pd.DataFrame(scaled_data, columns=num_cols)\n",
    "\n",
    "# Sonuçları gösterelim\n",
    "\n",
    "cat_data = pandas_df[cat_cols]\n",
    "scaled_df.head()"
   ]
  },
  {
   "cell_type": "code",
   "execution_count": 105,
   "metadata": {},
   "outputs": [
    {
     "data": {
      "text/html": [
       "<div>\n",
       "<style scoped>\n",
       "    .dataframe tbody tr th:only-of-type {\n",
       "        vertical-align: middle;\n",
       "    }\n",
       "\n",
       "    .dataframe tbody tr th {\n",
       "        vertical-align: top;\n",
       "    }\n",
       "\n",
       "    .dataframe thead th {\n",
       "        text-align: right;\n",
       "    }\n",
       "</style>\n",
       "<table border=\"1\" class=\"dataframe\">\n",
       "  <thead>\n",
       "    <tr style=\"text-align: right;\">\n",
       "      <th></th>\n",
       "      <th>battery_power</th>\n",
       "      <th>clock_speed</th>\n",
       "      <th>fc</th>\n",
       "      <th>int_memory</th>\n",
       "      <th>m_dep</th>\n",
       "      <th>mobile_wt</th>\n",
       "      <th>pc</th>\n",
       "      <th>px_height</th>\n",
       "      <th>px_width</th>\n",
       "      <th>ram</th>\n",
       "      <th>...</th>\n",
       "      <th>sc_w</th>\n",
       "      <th>talk_time</th>\n",
       "      <th>four_g</th>\n",
       "      <th>wifi</th>\n",
       "      <th>three_g</th>\n",
       "      <th>blue</th>\n",
       "      <th>n_cores</th>\n",
       "      <th>touch_screen</th>\n",
       "      <th>dual_sim</th>\n",
       "      <th>price_range</th>\n",
       "    </tr>\n",
       "  </thead>\n",
       "  <tbody>\n",
       "    <tr>\n",
       "      <th>0</th>\n",
       "      <td>0.227789</td>\n",
       "      <td>0.68</td>\n",
       "      <td>0.052632</td>\n",
       "      <td>0.080645</td>\n",
       "      <td>0.555556</td>\n",
       "      <td>0.900000</td>\n",
       "      <td>0.10</td>\n",
       "      <td>0.010204</td>\n",
       "      <td>0.170895</td>\n",
       "      <td>0.612774</td>\n",
       "      <td>...</td>\n",
       "      <td>0.388889</td>\n",
       "      <td>0.944444</td>\n",
       "      <td>0</td>\n",
       "      <td>1</td>\n",
       "      <td>0</td>\n",
       "      <td>0</td>\n",
       "      <td>2</td>\n",
       "      <td>0</td>\n",
       "      <td>0</td>\n",
       "      <td>1</td>\n",
       "    </tr>\n",
       "    <tr>\n",
       "      <th>1</th>\n",
       "      <td>0.347361</td>\n",
       "      <td>0.00</td>\n",
       "      <td>0.000000</td>\n",
       "      <td>0.822581</td>\n",
       "      <td>0.666667</td>\n",
       "      <td>0.466667</td>\n",
       "      <td>0.30</td>\n",
       "      <td>0.461735</td>\n",
       "      <td>0.993324</td>\n",
       "      <td>0.634687</td>\n",
       "      <td>...</td>\n",
       "      <td>0.166667</td>\n",
       "      <td>0.277778</td>\n",
       "      <td>1</td>\n",
       "      <td>0</td>\n",
       "      <td>1</td>\n",
       "      <td>1</td>\n",
       "      <td>3</td>\n",
       "      <td>1</td>\n",
       "      <td>1</td>\n",
       "      <td>2</td>\n",
       "    </tr>\n",
       "    <tr>\n",
       "      <th>2</th>\n",
       "      <td>0.041416</td>\n",
       "      <td>0.00</td>\n",
       "      <td>0.105263</td>\n",
       "      <td>0.629032</td>\n",
       "      <td>0.888889</td>\n",
       "      <td>0.541667</td>\n",
       "      <td>0.30</td>\n",
       "      <td>0.644388</td>\n",
       "      <td>0.811749</td>\n",
       "      <td>0.627205</td>\n",
       "      <td>...</td>\n",
       "      <td>0.111111</td>\n",
       "      <td>0.388889</td>\n",
       "      <td>1</td>\n",
       "      <td>0</td>\n",
       "      <td>1</td>\n",
       "      <td>1</td>\n",
       "      <td>5</td>\n",
       "      <td>1</td>\n",
       "      <td>1</td>\n",
       "      <td>2</td>\n",
       "    </tr>\n",
       "    <tr>\n",
       "      <th>3</th>\n",
       "      <td>0.076152</td>\n",
       "      <td>0.80</td>\n",
       "      <td>0.000000</td>\n",
       "      <td>0.129032</td>\n",
       "      <td>0.777778</td>\n",
       "      <td>0.425000</td>\n",
       "      <td>0.45</td>\n",
       "      <td>0.620408</td>\n",
       "      <td>0.858478</td>\n",
       "      <td>0.671566</td>\n",
       "      <td>...</td>\n",
       "      <td>0.444444</td>\n",
       "      <td>0.500000</td>\n",
       "      <td>0</td>\n",
       "      <td>0</td>\n",
       "      <td>1</td>\n",
       "      <td>1</td>\n",
       "      <td>6</td>\n",
       "      <td>0</td>\n",
       "      <td>0</td>\n",
       "      <td>2</td>\n",
       "    </tr>\n",
       "    <tr>\n",
       "      <th>4</th>\n",
       "      <td>0.881764</td>\n",
       "      <td>0.28</td>\n",
       "      <td>0.684211</td>\n",
       "      <td>0.677419</td>\n",
       "      <td>0.555556</td>\n",
       "      <td>0.508333</td>\n",
       "      <td>0.70</td>\n",
       "      <td>0.616327</td>\n",
       "      <td>0.475300</td>\n",
       "      <td>0.308658</td>\n",
       "      <td>...</td>\n",
       "      <td>0.111111</td>\n",
       "      <td>0.722222</td>\n",
       "      <td>1</td>\n",
       "      <td>0</td>\n",
       "      <td>1</td>\n",
       "      <td>1</td>\n",
       "      <td>2</td>\n",
       "      <td>1</td>\n",
       "      <td>0</td>\n",
       "      <td>1</td>\n",
       "    </tr>\n",
       "  </tbody>\n",
       "</table>\n",
       "<p>5 rows × 21 columns</p>\n",
       "</div>"
      ],
      "text/plain": [
       "   battery_power  clock_speed        fc  int_memory     m_dep  mobile_wt  \\\n",
       "0       0.227789         0.68  0.052632    0.080645  0.555556   0.900000   \n",
       "1       0.347361         0.00  0.000000    0.822581  0.666667   0.466667   \n",
       "2       0.041416         0.00  0.105263    0.629032  0.888889   0.541667   \n",
       "3       0.076152         0.80  0.000000    0.129032  0.777778   0.425000   \n",
       "4       0.881764         0.28  0.684211    0.677419  0.555556   0.508333   \n",
       "\n",
       "     pc  px_height  px_width       ram  ...      sc_w  talk_time  four_g  \\\n",
       "0  0.10   0.010204  0.170895  0.612774  ...  0.388889   0.944444       0   \n",
       "1  0.30   0.461735  0.993324  0.634687  ...  0.166667   0.277778       1   \n",
       "2  0.30   0.644388  0.811749  0.627205  ...  0.111111   0.388889       1   \n",
       "3  0.45   0.620408  0.858478  0.671566  ...  0.444444   0.500000       0   \n",
       "4  0.70   0.616327  0.475300  0.308658  ...  0.111111   0.722222       1   \n",
       "\n",
       "   wifi  three_g  blue  n_cores  touch_screen  dual_sim  price_range  \n",
       "0     1        0     0        2             0         0            1  \n",
       "1     0        1     1        3             1         1            2  \n",
       "2     0        1     1        5             1         1            2  \n",
       "3     0        1     1        6             0         0            2  \n",
       "4     0        1     1        2             1         0            1  \n",
       "\n",
       "[5 rows x 21 columns]"
      ]
     },
     "execution_count": 105,
     "metadata": {},
     "output_type": "execute_result"
    }
   ],
   "source": [
    "merged_df = pd.merge(scaled_df, cat_data, left_index=True, right_index=True, how='inner')\n",
    "merged_df.head()"
   ]
  },
  {
   "cell_type": "code",
   "execution_count": 103,
   "metadata": {},
   "outputs": [
    {
     "data": {
      "text/html": [
       "<div>\n",
       "<style scoped>\n",
       "    .dataframe tbody tr th:only-of-type {\n",
       "        vertical-align: middle;\n",
       "    }\n",
       "\n",
       "    .dataframe tbody tr th {\n",
       "        vertical-align: top;\n",
       "    }\n",
       "\n",
       "    .dataframe thead th {\n",
       "        text-align: right;\n",
       "    }\n",
       "</style>\n",
       "<table border=\"1\" class=\"dataframe\">\n",
       "  <thead>\n",
       "    <tr style=\"text-align: right;\">\n",
       "      <th></th>\n",
       "      <th>four_g</th>\n",
       "      <th>wifi</th>\n",
       "      <th>three_g</th>\n",
       "      <th>blue</th>\n",
       "      <th>n_cores</th>\n",
       "      <th>touch_screen</th>\n",
       "      <th>dual_sim</th>\n",
       "      <th>price_range</th>\n",
       "    </tr>\n",
       "  </thead>\n",
       "  <tbody>\n",
       "    <tr>\n",
       "      <th>0</th>\n",
       "      <td>0</td>\n",
       "      <td>1</td>\n",
       "      <td>0</td>\n",
       "      <td>0</td>\n",
       "      <td>2</td>\n",
       "      <td>0</td>\n",
       "      <td>0</td>\n",
       "      <td>1</td>\n",
       "    </tr>\n",
       "    <tr>\n",
       "      <th>1</th>\n",
       "      <td>1</td>\n",
       "      <td>0</td>\n",
       "      <td>1</td>\n",
       "      <td>1</td>\n",
       "      <td>3</td>\n",
       "      <td>1</td>\n",
       "      <td>1</td>\n",
       "      <td>2</td>\n",
       "    </tr>\n",
       "    <tr>\n",
       "      <th>2</th>\n",
       "      <td>1</td>\n",
       "      <td>0</td>\n",
       "      <td>1</td>\n",
       "      <td>1</td>\n",
       "      <td>5</td>\n",
       "      <td>1</td>\n",
       "      <td>1</td>\n",
       "      <td>2</td>\n",
       "    </tr>\n",
       "    <tr>\n",
       "      <th>3</th>\n",
       "      <td>0</td>\n",
       "      <td>0</td>\n",
       "      <td>1</td>\n",
       "      <td>1</td>\n",
       "      <td>6</td>\n",
       "      <td>0</td>\n",
       "      <td>0</td>\n",
       "      <td>2</td>\n",
       "    </tr>\n",
       "    <tr>\n",
       "      <th>4</th>\n",
       "      <td>1</td>\n",
       "      <td>0</td>\n",
       "      <td>1</td>\n",
       "      <td>1</td>\n",
       "      <td>2</td>\n",
       "      <td>1</td>\n",
       "      <td>0</td>\n",
       "      <td>1</td>\n",
       "    </tr>\n",
       "  </tbody>\n",
       "</table>\n",
       "</div>"
      ],
      "text/plain": [
       "   four_g  wifi  three_g  blue  n_cores  touch_screen  dual_sim  price_range\n",
       "0       0     1        0     0        2             0         0            1\n",
       "1       1     0        1     1        3             1         1            2\n",
       "2       1     0        1     1        5             1         1            2\n",
       "3       0     0        1     1        6             0         0            2\n",
       "4       1     0        1     1        2             1         0            1"
      ]
     },
     "execution_count": 103,
     "metadata": {},
     "output_type": "execute_result"
    }
   ],
   "source": [
    "cat_data.head()"
   ]
  },
  {
   "cell_type": "code",
   "execution_count": 108,
   "metadata": {},
   "outputs": [
    {
     "name": "stdout",
     "output_type": "stream",
     "text": [
      "+--------------------+-------------------+-------------------+-------------------+------------------+-------------------+-------------------+--------------------+--------------------+--------------------+------------------+-------------------+-------------------+------+----+-------+----+-------+------------+--------+-----------+\n",
      "|       battery_power|        clock_speed|                 fc|         int_memory|             m_dep|          mobile_wt|                 pc|           px_height|            px_width|                 ram|              sc_h|               sc_w|          talk_time|four_g|wifi|three_g|blue|n_cores|touch_screen|dual_sim|price_range|\n",
      "+--------------------+-------------------+-------------------+-------------------+------------------+-------------------+-------------------+--------------------+--------------------+--------------------+------------------+-------------------+-------------------+------+----+-------+----+-------+------------+--------+-----------+\n",
      "|  0.2277889111556447| 0.6800000000000002|0.05263157894736842|0.08064516129032258|0.5555555555555555|                0.9|                0.1|0.010204081632653062|  0.1708945260347129|  0.6127739176910743|0.2857142857142857|0.38888888888888884| 0.9444444444444444|     0|   1|      0|   0|      2|           0|       0|          1|\n",
      "| 0.34736138944555783|                0.0|                0.0| 0.8225806451612904|0.6666666666666666| 0.4666666666666667|0.30000000000000004| 0.46173469387755106|   0.993324432576769|  0.6346873329770176|0.8571428571428571|0.16666666666666666|0.27777777777777773|     1|   0|      1|   1|      3|           1|       1|          2|\n",
      "| 0.04141616566466266|                0.0|0.10526315789473684| 0.6290322580645161|0.8888888888888888| 0.5416666666666666|0.30000000000000004|  0.6443877551020408|  0.8117489986648865|  0.6272047033671833|0.4285714285714286| 0.1111111111111111| 0.3888888888888889|     1|   0|      1|   1|      5|           1|       1|          2|\n",
      "| 0.07615230460921846|                0.8|                0.0|0.12903225806451613|0.7777777777777778|0.42499999999999993|               0.45|  0.6204081632653062|  0.8584779706275032|  0.6715660074826295|0.7857142857142857| 0.4444444444444444|0.49999999999999994|     0|   0|      1|   1|      6|           0|       0|          2|\n",
      "|  0.8817635270541082|0.27999999999999997| 0.6842105263157894| 0.6774193548387097|0.5555555555555555| 0.5083333333333334| 0.7000000000000001|   0.616326530612245|  0.4753004005340453|  0.3086584714056654|0.2142857142857143| 0.1111111111111111| 0.7222222222222221|     1|   0|      1|   1|      2|           1|       0|          1|\n",
      "|  0.9071476285905145|                0.0|0.15789473684210525|0.32258064516129037|0.6666666666666666| 0.7000000000000001|0.35000000000000003|  0.5122448979591837|  0.7703604806408544| 0.21672902191341525|0.8571428571428571|0.05555555555555555| 0.4444444444444445|     0|   0|      1|   0|      1|           0|       1|          1|\n",
      "|  0.8817635270541082|0.48000000000000004|0.21052631578947367|0.12903225806451613|0.7777777777777778| 0.4916666666666666|                0.5| 0.19438775510204084|  0.3457943925233644|   0.792089791555318|0.5714285714285714| 0.4444444444444444| 0.8888888888888888|     1|   1|      1|   0|      8|           0|       0|          3|\n",
      "|  0.9706078824315298|                0.0|                0.0| 0.3548387096774194|0.7777777777777778| 0.8916666666666667|                0.0|  0.2612244897959184| 0.43324432576769023| 0.11865312667022981|0.7857142857142857|0.16666666666666666|0.16666666666666669|     0|   1|      1|   0|      4|           1|       1|          0|\n",
      "|  0.6305945223780896|                0.0|                0.0| 0.8225806451612904|0.6666666666666666| 0.7833333333333333| 0.7000000000000001|  0.1969387755102041| 0.22429906542056077| 0.22528059861036875|0.8571428571428571|0.05555555555555555|                1.0|     0|   0|      1|   1|      7|           0|       0|          0|\n",
      "|0.005344021376085528|0.03999999999999998|0.10526315789473684| 0.1129032258064516|               0.0|0.10833333333333339|               0.75|  0.5801020408163265|  0.4833110814419226| 0.06867985034740781|0.9999999999999999| 0.5555555555555556| 0.5555555555555556|     1|   0|      1|   1|      5|           0|       1|          0|\n",
      "|  0.1790247160988644|               0.96|                0.0| 0.1129032258064516|               0.0|               0.85|               0.05| 0.12653061224489798| 0.24966622162883845|  0.9861036878674505|               0.0| 0.1111111111111111|0.27777777777777773|     0|   0|      0|   1|      5|           0|       1|          3|\n",
      "|  0.6806947227788911| 0.6800000000000002| 0.2631578947368421|                0.5|0.4444444444444445| 0.8083333333333335|                0.9| 0.07704081632653062| 0.33711615487316415|  0.9540352752538748|0.6428571428571429|                0.5| 0.6111111111111112|     1|   1|      1|   1|      8|           1|       0|          3|\n",
      "|  0.8777555110220441| 0.9199999999999999|0.10526315789473684|                0.5|0.5555555555555555| 0.6583333333333333| 0.8500000000000001| 0.30969387755102046| 0.16555407209612816|   0.327632282202031|0.9285714285714285|                0.0|                0.0|     0|   0|      1|   0|      4|           0|       0|          1|\n",
      "| 0.20173680694722784| 0.6400000000000001| 0.3684210526315789|0.24193548387096772|               1.0| 0.9833333333333333|               0.55| 0.17551020408163268|  0.6275033377837116|  0.6477819347942276|0.1428571428571429|0.05555555555555555| 0.1111111111111111|     0|   1|      1|   1|      4|           0|       0|          2|\n",
      "|  0.9118236472945893|                0.0| 0.6842105263157894| 0.8064516129032258|0.6666666666666666| 0.8750000000000001| 0.8500000000000001|  0.1816326530612245|0.042056074766355145|0.031266702298236235|0.6428571428571429|                0.5|0.05555555555555555|     1|   1|      1|   0|      1|           0|       0|          0|\n",
      "| 0.18303273213092852|                0.2|0.15789473684210525| 0.7096774193548387|0.6666666666666666| 0.6583333333333333|                0.8|   0.439795918367347|   0.910547396528705| 0.08337787279529663|0.8571428571428571| 0.8333333333333333|0.49999999999999994|     0|   1|      1|   0|      2|           1|       0|          0|\n",
      "|  0.2251169004676019|                0.0|0.05263157894736842|0.17741935483870966|               0.0| 0.9666666666666667|                0.2|  0.5020408163265306|  0.9012016021361815|  0.8813468733297701|0.3571428571428571|                0.5| 0.9444444444444444|     1|   1|      1|   0|      8|           0|       0|          3|\n",
      "| 0.06279225116900472|0.16000000000000003| 0.3684210526315789|0.33870967741935487|               0.0| 0.3416666666666667| 0.8500000000000001| 0.22500000000000003| 0.20694259012016014|    0.93425975414217|0.3571428571428571| 0.1111111111111111| 0.8888888888888888|     1|   0|      1|   0|      3|           1|       1|          3|\n",
      "| 0.42084168336673355|                0.0| 0.5789473684210527| 0.7580645161290323|0.5555555555555555|0.17500000000000004|                0.9| 0.33571428571428574| 0.25233644859813087| 0.42196686264029926|0.9999999999999999| 0.7222222222222222| 0.7777777777777777|     0|   0|      1|   1|      5|           1|       1|          1|\n",
      "| 0.12090848363393458|                0.0|0.21052631578947367|0.27419354838709675|               1.0| 0.3416666666666667|               0.55|  0.4602040816326531| 0.37650200267022693|  0.5561197220737573|0.4285714285714286|0.05555555555555555| 0.8888888888888888|     0|   1|      0|   1|      4|           1|       0|          1|\n",
      "+--------------------+-------------------+-------------------+-------------------+------------------+-------------------+-------------------+--------------------+--------------------+--------------------+------------------+-------------------+-------------------+------+----+-------+----+-------+------------+--------+-----------+\n",
      "only showing top 20 rows\n",
      "\n"
     ]
    }
   ],
   "source": [
    "spark_df = spark.createDataFrame(merged_df)\n",
    "\n",
    "# Spark DataFrame'ini gösterelim\n",
    "spark_df.show()"
   ]
  },
  {
   "cell_type": "code",
   "execution_count": 111,
   "metadata": {},
   "outputs": [
    {
     "name": "stdout",
     "output_type": "stream",
     "text": [
      "+--------------------+-------------------+-------------------+-------------------+------------------+-------------------+-------------------+--------------------+--------------------+--------------------+------------------+-------------------+-------------------+------+----+-------+----+-------+------------+--------+\n",
      "|       battery_power|        clock_speed|                 fc|         int_memory|             m_dep|          mobile_wt|                 pc|           px_height|            px_width|                 ram|              sc_h|               sc_w|          talk_time|four_g|wifi|three_g|blue|n_cores|touch_screen|dual_sim|\n",
      "+--------------------+-------------------+-------------------+-------------------+------------------+-------------------+-------------------+--------------------+--------------------+--------------------+------------------+-------------------+-------------------+------+----+-------+----+-------+------------+--------+\n",
      "|  0.2277889111556447| 0.6800000000000002|0.05263157894736842|0.08064516129032258|0.5555555555555555|                0.9|                0.1|0.010204081632653062|  0.1708945260347129|  0.6127739176910743|0.2857142857142857|0.38888888888888884| 0.9444444444444444|     0|   1|      0|   0|      2|           0|       0|\n",
      "| 0.34736138944555783|                0.0|                0.0| 0.8225806451612904|0.6666666666666666| 0.4666666666666667|0.30000000000000004| 0.46173469387755106|   0.993324432576769|  0.6346873329770176|0.8571428571428571|0.16666666666666666|0.27777777777777773|     1|   0|      1|   1|      3|           1|       1|\n",
      "| 0.04141616566466266|                0.0|0.10526315789473684| 0.6290322580645161|0.8888888888888888| 0.5416666666666666|0.30000000000000004|  0.6443877551020408|  0.8117489986648865|  0.6272047033671833|0.4285714285714286| 0.1111111111111111| 0.3888888888888889|     1|   0|      1|   1|      5|           1|       1|\n",
      "| 0.07615230460921846|                0.8|                0.0|0.12903225806451613|0.7777777777777778|0.42499999999999993|               0.45|  0.6204081632653062|  0.8584779706275032|  0.6715660074826295|0.7857142857142857| 0.4444444444444444|0.49999999999999994|     0|   0|      1|   1|      6|           0|       0|\n",
      "|  0.8817635270541082|0.27999999999999997| 0.6842105263157894| 0.6774193548387097|0.5555555555555555| 0.5083333333333334| 0.7000000000000001|   0.616326530612245|  0.4753004005340453|  0.3086584714056654|0.2142857142857143| 0.1111111111111111| 0.7222222222222221|     1|   0|      1|   1|      2|           1|       0|\n",
      "|  0.9071476285905145|                0.0|0.15789473684210525|0.32258064516129037|0.6666666666666666| 0.7000000000000001|0.35000000000000003|  0.5122448979591837|  0.7703604806408544| 0.21672902191341525|0.8571428571428571|0.05555555555555555| 0.4444444444444445|     0|   0|      1|   0|      1|           0|       1|\n",
      "|  0.8817635270541082|0.48000000000000004|0.21052631578947367|0.12903225806451613|0.7777777777777778| 0.4916666666666666|                0.5| 0.19438775510204084|  0.3457943925233644|   0.792089791555318|0.5714285714285714| 0.4444444444444444| 0.8888888888888888|     1|   1|      1|   0|      8|           0|       0|\n",
      "|  0.9706078824315298|                0.0|                0.0| 0.3548387096774194|0.7777777777777778| 0.8916666666666667|                0.0|  0.2612244897959184| 0.43324432576769023| 0.11865312667022981|0.7857142857142857|0.16666666666666666|0.16666666666666669|     0|   1|      1|   0|      4|           1|       1|\n",
      "|  0.6305945223780896|                0.0|                0.0| 0.8225806451612904|0.6666666666666666| 0.7833333333333333| 0.7000000000000001|  0.1969387755102041| 0.22429906542056077| 0.22528059861036875|0.8571428571428571|0.05555555555555555|                1.0|     0|   0|      1|   1|      7|           0|       0|\n",
      "|0.005344021376085528|0.03999999999999998|0.10526315789473684| 0.1129032258064516|               0.0|0.10833333333333339|               0.75|  0.5801020408163265|  0.4833110814419226| 0.06867985034740781|0.9999999999999999| 0.5555555555555556| 0.5555555555555556|     1|   0|      1|   1|      5|           0|       1|\n",
      "|  0.1790247160988644|               0.96|                0.0| 0.1129032258064516|               0.0|               0.85|               0.05| 0.12653061224489798| 0.24966622162883845|  0.9861036878674505|               0.0| 0.1111111111111111|0.27777777777777773|     0|   0|      0|   1|      5|           0|       1|\n",
      "|  0.6806947227788911| 0.6800000000000002| 0.2631578947368421|                0.5|0.4444444444444445| 0.8083333333333335|                0.9| 0.07704081632653062| 0.33711615487316415|  0.9540352752538748|0.6428571428571429|                0.5| 0.6111111111111112|     1|   1|      1|   1|      8|           1|       0|\n",
      "|  0.8777555110220441| 0.9199999999999999|0.10526315789473684|                0.5|0.5555555555555555| 0.6583333333333333| 0.8500000000000001| 0.30969387755102046| 0.16555407209612816|   0.327632282202031|0.9285714285714285|                0.0|                0.0|     0|   0|      1|   0|      4|           0|       0|\n",
      "| 0.20173680694722784| 0.6400000000000001| 0.3684210526315789|0.24193548387096772|               1.0| 0.9833333333333333|               0.55| 0.17551020408163268|  0.6275033377837116|  0.6477819347942276|0.1428571428571429|0.05555555555555555| 0.1111111111111111|     0|   1|      1|   1|      4|           0|       0|\n",
      "|  0.9118236472945893|                0.0| 0.6842105263157894| 0.8064516129032258|0.6666666666666666| 0.8750000000000001| 0.8500000000000001|  0.1816326530612245|0.042056074766355145|0.031266702298236235|0.6428571428571429|                0.5|0.05555555555555555|     1|   1|      1|   0|      1|           0|       0|\n",
      "| 0.18303273213092852|                0.2|0.15789473684210525| 0.7096774193548387|0.6666666666666666| 0.6583333333333333|                0.8|   0.439795918367347|   0.910547396528705| 0.08337787279529663|0.8571428571428571| 0.8333333333333333|0.49999999999999994|     0|   1|      1|   0|      2|           1|       0|\n",
      "|  0.2251169004676019|                0.0|0.05263157894736842|0.17741935483870966|               0.0| 0.9666666666666667|                0.2|  0.5020408163265306|  0.9012016021361815|  0.8813468733297701|0.3571428571428571|                0.5| 0.9444444444444444|     1|   1|      1|   0|      8|           0|       0|\n",
      "| 0.06279225116900472|0.16000000000000003| 0.3684210526315789|0.33870967741935487|               0.0| 0.3416666666666667| 0.8500000000000001| 0.22500000000000003| 0.20694259012016014|    0.93425975414217|0.3571428571428571| 0.1111111111111111| 0.8888888888888888|     1|   0|      1|   0|      3|           1|       1|\n",
      "| 0.42084168336673355|                0.0| 0.5789473684210527| 0.7580645161290323|0.5555555555555555|0.17500000000000004|                0.9| 0.33571428571428574| 0.25233644859813087| 0.42196686264029926|0.9999999999999999| 0.7222222222222222| 0.7777777777777777|     0|   0|      1|   1|      5|           1|       1|\n",
      "| 0.12090848363393458|                0.0|0.21052631578947367|0.27419354838709675|               1.0| 0.3416666666666667|               0.55|  0.4602040816326531| 0.37650200267022693|  0.5561197220737573|0.4285714285714286|0.05555555555555555| 0.8888888888888888|     0|   1|      0|   1|      4|           1|       0|\n",
      "+--------------------+-------------------+-------------------+-------------------+------------------+-------------------+-------------------+--------------------+--------------------+--------------------+------------------+-------------------+-------------------+------+----+-------+----+-------+------------+--------+\n",
      "only showing top 20 rows\n",
      "\n"
     ]
    }
   ],
   "source": [
    "X = spark_df.drop(\"price_range\")\n",
    "Y = spark_df.select(\"price_range\")\n",
    "X.show()"
   ]
  },
  {
   "cell_type": "code",
   "execution_count": 112,
   "metadata": {},
   "outputs": [
    {
     "name": "stdout",
     "output_type": "stream",
     "text": [
      "+-----------+\n",
      "|price_range|\n",
      "+-----------+\n",
      "|          1|\n",
      "|          2|\n",
      "|          2|\n",
      "|          2|\n",
      "|          1|\n",
      "|          1|\n",
      "|          3|\n",
      "|          0|\n",
      "|          0|\n",
      "|          0|\n",
      "|          3|\n",
      "|          3|\n",
      "|          1|\n",
      "|          2|\n",
      "|          0|\n",
      "|          0|\n",
      "|          3|\n",
      "|          3|\n",
      "|          1|\n",
      "|          1|\n",
      "+-----------+\n",
      "only showing top 20 rows\n",
      "\n"
     ]
    }
   ],
   "source": [
    "Y.show()"
   ]
  },
  {
   "cell_type": "code",
   "execution_count": 113,
   "metadata": {},
   "outputs": [],
   "source": [
    "from pyspark.ml.classification import LogisticRegression\n",
    "from pyspark.ml.classification import DecisionTreeClassifier\n",
    "from pyspark.ml.classification import RandomForestClassifier\n",
    "from pyspark.ml.classification import LinearSVC\n",
    "from pyspark.ml.classification import NaiveBayes\n",
    "from pyspark.ml.classification import FMClassifier"
   ]
  },
  {
   "cell_type": "code",
   "execution_count": 135,
   "metadata": {},
   "outputs": [],
   "source": [
    "models = [('LR', LogisticRegression(labelCol=\"price_range\")),\n",
    "          ('CART', DecisionTreeClassifier(labelCol=\"price_range\")),\n",
    "          ('RF', RandomForestClassifier(labelCol=\"price_range\")),\n",
    "          ('SVC', LinearSVC(labelCol=\"price_range\")),\n",
    "          ('BAYES', NaiveBayes(labelCol=\"price_range\")),\n",
    "          ('FMC',FMClassifier(labelCol=\"price_range\"))\n",
    "         ]"
   ]
  },
  {
   "cell_type": "code",
   "execution_count": 117,
   "metadata": {},
   "outputs": [],
   "source": [
    "from pyspark.ml.feature import VectorAssembler"
   ]
  },
  {
   "cell_type": "code",
   "execution_count": 121,
   "metadata": {},
   "outputs": [
    {
     "ename": "IllegalArgumentException",
     "evalue": "Output column features already exists.",
     "output_type": "error",
     "traceback": [
      "\u001b[1;31m---------------------------------------------------------------------------\u001b[0m",
      "\u001b[1;31mIllegalArgumentException\u001b[0m                  Traceback (most recent call last)",
      "\u001b[1;32mUntitled-1.ipynb Cell 21\u001b[0m line \u001b[0;36m2\n\u001b[0;32m      <a href='vscode-notebook-cell:Untitled-1.ipynb?jupyter-notebook#X34sdW50aXRsZWQ%3D?line=0'>1</a>\u001b[0m vec \u001b[39m=\u001b[39m VectorAssembler(inputCols\u001b[39m=\u001b[39m[\u001b[39m'\u001b[39m\u001b[39mbattery_power\u001b[39m\u001b[39m'\u001b[39m,\n\u001b[0;32m      <a href='vscode-notebook-cell:Untitled-1.ipynb?jupyter-notebook#X34sdW50aXRsZWQ%3D?line=1'>2</a>\u001b[0m  \u001b[39m'\u001b[39m\u001b[39mclock_speed\u001b[39m\u001b[39m'\u001b[39m,\n\u001b[0;32m      <a href='vscode-notebook-cell:Untitled-1.ipynb?jupyter-notebook#X34sdW50aXRsZWQ%3D?line=2'>3</a>\u001b[0m  \u001b[39m'\u001b[39m\u001b[39mfc\u001b[39m\u001b[39m'\u001b[39m,\n\u001b[1;32m   (...)\u001b[0m\n\u001b[0;32m     <a href='vscode-notebook-cell:Untitled-1.ipynb?jupyter-notebook#X34sdW50aXRsZWQ%3D?line=18'>19</a>\u001b[0m  \u001b[39m'\u001b[39m\u001b[39mtouch_screen\u001b[39m\u001b[39m'\u001b[39m,\n\u001b[0;32m     <a href='vscode-notebook-cell:Untitled-1.ipynb?jupyter-notebook#X34sdW50aXRsZWQ%3D?line=19'>20</a>\u001b[0m  \u001b[39m'\u001b[39m\u001b[39mdual_sim\u001b[39m\u001b[39m'\u001b[39m],outputCol\u001b[39m=\u001b[39m\u001b[39m\"\u001b[39m\u001b[39mfeatures\u001b[39m\u001b[39m\"\u001b[39m)\n\u001b[1;32m---> <a href='vscode-notebook-cell:Untitled-1.ipynb?jupyter-notebook#X34sdW50aXRsZWQ%3D?line=20'>21</a>\u001b[0m spark_df  \u001b[39m=\u001b[39m vec\u001b[39m.\u001b[39;49mtransform(spark_df)\n\u001b[0;32m     <a href='vscode-notebook-cell:Untitled-1.ipynb?jupyter-notebook#X34sdW50aXRsZWQ%3D?line=21'>22</a>\u001b[0m spark_df\u001b[39m.\u001b[39mshow()\n",
      "File \u001b[1;32mc:\\Users\\Enes\\AppData\\Local\\Programs\\Python\\Python311\\Lib\\site-packages\\pyspark\\ml\\base.py:262\u001b[0m, in \u001b[0;36mTransformer.transform\u001b[1;34m(self, dataset, params)\u001b[0m\n\u001b[0;32m    260\u001b[0m         \u001b[39mreturn\u001b[39;00m \u001b[39mself\u001b[39m\u001b[39m.\u001b[39mcopy(params)\u001b[39m.\u001b[39m_transform(dataset)\n\u001b[0;32m    261\u001b[0m     \u001b[39melse\u001b[39;00m:\n\u001b[1;32m--> 262\u001b[0m         \u001b[39mreturn\u001b[39;00m \u001b[39mself\u001b[39;49m\u001b[39m.\u001b[39;49m_transform(dataset)\n\u001b[0;32m    263\u001b[0m \u001b[39melse\u001b[39;00m:\n\u001b[0;32m    264\u001b[0m     \u001b[39mraise\u001b[39;00m \u001b[39mTypeError\u001b[39;00m(\u001b[39m\"\u001b[39m\u001b[39mParams must be a param map but got \u001b[39m\u001b[39m%s\u001b[39;00m\u001b[39m.\u001b[39m\u001b[39m\"\u001b[39m \u001b[39m%\u001b[39m \u001b[39mtype\u001b[39m(params))\n",
      "File \u001b[1;32mc:\\Users\\Enes\\AppData\\Local\\Programs\\Python\\Python311\\Lib\\site-packages\\pyspark\\ml\\wrapper.py:398\u001b[0m, in \u001b[0;36mJavaTransformer._transform\u001b[1;34m(self, dataset)\u001b[0m\n\u001b[0;32m    395\u001b[0m \u001b[39massert\u001b[39;00m \u001b[39mself\u001b[39m\u001b[39m.\u001b[39m_java_obj \u001b[39mis\u001b[39;00m \u001b[39mnot\u001b[39;00m \u001b[39mNone\u001b[39;00m\n\u001b[0;32m    397\u001b[0m \u001b[39mself\u001b[39m\u001b[39m.\u001b[39m_transfer_params_to_java()\n\u001b[1;32m--> 398\u001b[0m \u001b[39mreturn\u001b[39;00m DataFrame(\u001b[39mself\u001b[39;49m\u001b[39m.\u001b[39;49m_java_obj\u001b[39m.\u001b[39;49mtransform(dataset\u001b[39m.\u001b[39;49m_jdf), dataset\u001b[39m.\u001b[39msparkSession)\n",
      "File \u001b[1;32mc:\\Users\\Enes\\AppData\\Local\\Programs\\Python\\Python311\\Lib\\site-packages\\py4j\\java_gateway.py:1322\u001b[0m, in \u001b[0;36mJavaMember.__call__\u001b[1;34m(self, *args)\u001b[0m\n\u001b[0;32m   1316\u001b[0m command \u001b[39m=\u001b[39m proto\u001b[39m.\u001b[39mCALL_COMMAND_NAME \u001b[39m+\u001b[39m\\\n\u001b[0;32m   1317\u001b[0m     \u001b[39mself\u001b[39m\u001b[39m.\u001b[39mcommand_header \u001b[39m+\u001b[39m\\\n\u001b[0;32m   1318\u001b[0m     args_command \u001b[39m+\u001b[39m\\\n\u001b[0;32m   1319\u001b[0m     proto\u001b[39m.\u001b[39mEND_COMMAND_PART\n\u001b[0;32m   1321\u001b[0m answer \u001b[39m=\u001b[39m \u001b[39mself\u001b[39m\u001b[39m.\u001b[39mgateway_client\u001b[39m.\u001b[39msend_command(command)\n\u001b[1;32m-> 1322\u001b[0m return_value \u001b[39m=\u001b[39m get_return_value(\n\u001b[0;32m   1323\u001b[0m     answer, \u001b[39mself\u001b[39;49m\u001b[39m.\u001b[39;49mgateway_client, \u001b[39mself\u001b[39;49m\u001b[39m.\u001b[39;49mtarget_id, \u001b[39mself\u001b[39;49m\u001b[39m.\u001b[39;49mname)\n\u001b[0;32m   1325\u001b[0m \u001b[39mfor\u001b[39;00m temp_arg \u001b[39min\u001b[39;00m temp_args:\n\u001b[0;32m   1326\u001b[0m     \u001b[39mif\u001b[39;00m \u001b[39mhasattr\u001b[39m(temp_arg, \u001b[39m\"\u001b[39m\u001b[39m_detach\u001b[39m\u001b[39m\"\u001b[39m):\n",
      "File \u001b[1;32mc:\\Users\\Enes\\AppData\\Local\\Programs\\Python\\Python311\\Lib\\site-packages\\pyspark\\errors\\exceptions\\captured.py:185\u001b[0m, in \u001b[0;36mcapture_sql_exception.<locals>.deco\u001b[1;34m(*a, **kw)\u001b[0m\n\u001b[0;32m    181\u001b[0m converted \u001b[39m=\u001b[39m convert_exception(e\u001b[39m.\u001b[39mjava_exception)\n\u001b[0;32m    182\u001b[0m \u001b[39mif\u001b[39;00m \u001b[39mnot\u001b[39;00m \u001b[39misinstance\u001b[39m(converted, UnknownException):\n\u001b[0;32m    183\u001b[0m     \u001b[39m# Hide where the exception came from that shows a non-Pythonic\u001b[39;00m\n\u001b[0;32m    184\u001b[0m     \u001b[39m# JVM exception message.\u001b[39;00m\n\u001b[1;32m--> 185\u001b[0m     \u001b[39mraise\u001b[39;00m converted \u001b[39mfrom\u001b[39;00m \u001b[39mNone\u001b[39m\n\u001b[0;32m    186\u001b[0m \u001b[39melse\u001b[39;00m:\n\u001b[0;32m    187\u001b[0m     \u001b[39mraise\u001b[39;00m\n",
      "\u001b[1;31mIllegalArgumentException\u001b[0m: Output column features already exists."
     ]
    }
   ],
   "source": [
    "vec = VectorAssembler(inputCols=['battery_power',\n",
    " 'clock_speed',\n",
    " 'fc',\n",
    " 'int_memory',\n",
    " 'm_dep',\n",
    " 'mobile_wt',\n",
    " 'pc',\n",
    " 'px_height',\n",
    " 'px_width',\n",
    " 'ram',\n",
    " 'sc_h',\n",
    " 'sc_w',\n",
    " 'talk_time',\n",
    " 'four_g',\n",
    " 'wifi',\n",
    " 'three_g',\n",
    " 'blue',\n",
    " 'n_cores',\n",
    " 'touch_screen',\n",
    " 'dual_sim'],outputCol=\"features\")\n",
    "spark_df  = vec.transform(spark_df)\n",
    "spark_df.show()"
   ]
  },
  {
   "cell_type": "code",
   "execution_count": 123,
   "metadata": {},
   "outputs": [
    {
     "name": "stdout",
     "output_type": "stream",
     "text": [
      "+--------------------+-----------+\n",
      "|            features|price_range|\n",
      "+--------------------+-----------+\n",
      "|[0.22778891115564...|          1|\n",
      "|[0.34736138944555...|          2|\n",
      "|[0.04141616566466...|          2|\n",
      "|[0.07615230460921...|          2|\n",
      "|[0.88176352705410...|          1|\n",
      "|[0.90714762859051...|          1|\n",
      "|[0.88176352705410...|          3|\n",
      "|[0.97060788243152...|          0|\n",
      "|[0.63059452237808...|          0|\n",
      "|[0.00534402137608...|          0|\n",
      "|[0.17902471609886...|          3|\n",
      "|[0.68069472277889...|          3|\n",
      "|[0.87775551102204...|          1|\n",
      "|[0.20173680694722...|          2|\n",
      "|[0.91182364729458...|          0|\n",
      "|[0.18303273213092...|          0|\n",
      "|[0.22511690046760...|          3|\n",
      "|[0.06279225116900...|          3|\n",
      "|[0.42084168336673...|          1|\n",
      "|[0.12090848363393...|          1|\n",
      "+--------------------+-----------+\n",
      "only showing top 20 rows\n",
      "\n"
     ]
    }
   ],
   "source": [
    "spark_df = spark_df.select(\"features\",\"price_range\")\n",
    "spark_df.show()"
   ]
  },
  {
   "cell_type": "code",
   "execution_count": 124,
   "metadata": {},
   "outputs": [],
   "source": [
    "from pyspark.ml.evaluation import MulticlassClassificationEvaluator"
   ]
  },
  {
   "cell_type": "code",
   "execution_count": 138,
   "metadata": {},
   "outputs": [
    {
     "ename": "Py4JJavaError",
     "evalue": "An error occurred while calling o3170.fit.\n: org.apache.spark.SparkException: Job aborted due to stage failure: Task 12 in stage 1612.0 failed 1 times, most recent failure: Lost task 12.0 in stage 1612.0 (TID 5908) (ENES-PC executor driver): java.lang.RuntimeException: Labels MUST be in {0, 1}, but got 2.0\r\n\tat org.apache.spark.sql.catalyst.expressions.GeneratedClass$GeneratedIteratorForCodegenStage1.project_doConsume_0$(Unknown Source)\r\n\tat org.apache.spark.sql.catalyst.expressions.GeneratedClass$GeneratedIteratorForCodegenStage1.processNext(Unknown Source)\r\n\tat org.apache.spark.sql.execution.BufferedRowIterator.hasNext(BufferedRowIterator.java:43)\r\n\tat org.apache.spark.sql.execution.WholeStageCodegenEvaluatorFactory$WholeStageCodegenPartitionEvaluator$$anon$1.hasNext(WholeStageCodegenEvaluatorFactory.scala:43)\r\n\tat scala.collection.Iterator$$anon$10.hasNext(Iterator.scala:460)\r\n\tat scala.collection.Iterator$$anon$10.hasNext(Iterator.scala:460)\r\n\tat scala.collection.Iterator$$anon$10.hasNext(Iterator.scala:460)\r\n\tat scala.collection.Iterator.foreach(Iterator.scala:943)\r\n\tat scala.collection.Iterator.foreach$(Iterator.scala:943)\r\n\tat scala.collection.AbstractIterator.foreach(Iterator.scala:1431)\r\n\tat scala.collection.TraversableOnce.foldLeft(TraversableOnce.scala:199)\r\n\tat scala.collection.TraversableOnce.foldLeft$(TraversableOnce.scala:192)\r\n\tat scala.collection.AbstractIterator.foldLeft(Iterator.scala:1431)\r\n\tat scala.collection.TraversableOnce.aggregate(TraversableOnce.scala:260)\r\n\tat scala.collection.TraversableOnce.aggregate$(TraversableOnce.scala:260)\r\n\tat scala.collection.AbstractIterator.aggregate(Iterator.scala:1431)\r\n\tat org.apache.spark.rdd.RDD.$anonfun$treeAggregate$4(RDD.scala:1261)\r\n\tat org.apache.spark.rdd.RDD.$anonfun$treeAggregate$6(RDD.scala:1262)\r\n\tat org.apache.spark.rdd.RDD.$anonfun$mapPartitions$2(RDD.scala:855)\r\n\tat org.apache.spark.rdd.RDD.$anonfun$mapPartitions$2$adapted(RDD.scala:855)\r\n\tat org.apache.spark.rdd.MapPartitionsRDD.compute(MapPartitionsRDD.scala:52)\r\n\tat org.apache.spark.rdd.RDD.computeOrReadCheckpoint(RDD.scala:364)\r\n\tat org.apache.spark.rdd.RDD.iterator(RDD.scala:328)\r\n\tat org.apache.spark.rdd.MapPartitionsRDD.compute(MapPartitionsRDD.scala:52)\r\n\tat org.apache.spark.rdd.RDD.computeOrReadCheckpoint(RDD.scala:364)\r\n\tat org.apache.spark.rdd.RDD.iterator(RDD.scala:328)\r\n\tat org.apache.spark.shuffle.ShuffleWriteProcessor.write(ShuffleWriteProcessor.scala:59)\r\n\tat org.apache.spark.scheduler.ShuffleMapTask.runTask(ShuffleMapTask.scala:104)\r\n\tat org.apache.spark.scheduler.ShuffleMapTask.runTask(ShuffleMapTask.scala:54)\r\n\tat org.apache.spark.TaskContext.runTaskWithListeners(TaskContext.scala:161)\r\n\tat org.apache.spark.scheduler.Task.run(Task.scala:141)\r\n\tat org.apache.spark.executor.Executor$TaskRunner.$anonfun$run$4(Executor.scala:620)\r\n\tat org.apache.spark.util.SparkErrorUtils.tryWithSafeFinally(SparkErrorUtils.scala:64)\r\n\tat org.apache.spark.util.SparkErrorUtils.tryWithSafeFinally$(SparkErrorUtils.scala:61)\r\n\tat org.apache.spark.util.Utils$.tryWithSafeFinally(Utils.scala:94)\r\n\tat org.apache.spark.executor.Executor$TaskRunner.run(Executor.scala:623)\r\n\tat java.base/java.util.concurrent.ThreadPoolExecutor.runWorker(ThreadPoolExecutor.java:1136)\r\n\tat java.base/java.util.concurrent.ThreadPoolExecutor$Worker.run(ThreadPoolExecutor.java:635)\r\n\tat java.base/java.lang.Thread.run(Thread.java:842)\r\n\nDriver stacktrace:\r\n\tat org.apache.spark.scheduler.DAGScheduler.failJobAndIndependentStages(DAGScheduler.scala:2844)\r\n\tat org.apache.spark.scheduler.DAGScheduler.$anonfun$abortStage$2(DAGScheduler.scala:2780)\r\n\tat org.apache.spark.scheduler.DAGScheduler.$anonfun$abortStage$2$adapted(DAGScheduler.scala:2779)\r\n\tat scala.collection.mutable.ResizableArray.foreach(ResizableArray.scala:62)\r\n\tat scala.collection.mutable.ResizableArray.foreach$(ResizableArray.scala:55)\r\n\tat scala.collection.mutable.ArrayBuffer.foreach(ArrayBuffer.scala:49)\r\n\tat org.apache.spark.scheduler.DAGScheduler.abortStage(DAGScheduler.scala:2779)\r\n\tat org.apache.spark.scheduler.DAGScheduler.$anonfun$handleTaskSetFailed$1(DAGScheduler.scala:1242)\r\n\tat org.apache.spark.scheduler.DAGScheduler.$anonfun$handleTaskSetFailed$1$adapted(DAGScheduler.scala:1242)\r\n\tat scala.Option.foreach(Option.scala:407)\r\n\tat org.apache.spark.scheduler.DAGScheduler.handleTaskSetFailed(DAGScheduler.scala:1242)\r\n\tat org.apache.spark.scheduler.DAGSchedulerEventProcessLoop.doOnReceive(DAGScheduler.scala:3048)\r\n\tat org.apache.spark.scheduler.DAGSchedulerEventProcessLoop.onReceive(DAGScheduler.scala:2982)\r\n\tat org.apache.spark.scheduler.DAGSchedulerEventProcessLoop.onReceive(DAGScheduler.scala:2971)\r\n\tat org.apache.spark.util.EventLoop$$anon$1.run(EventLoop.scala:49)\r\n\tat org.apache.spark.scheduler.DAGScheduler.runJob(DAGScheduler.scala:984)\r\n\tat org.apache.spark.SparkContext.runJob(SparkContext.scala:2398)\r\n\tat org.apache.spark.SparkContext.runJob(SparkContext.scala:2493)\r\n\tat org.apache.spark.rdd.RDD.$anonfun$fold$1(RDD.scala:1199)\r\n\tat org.apache.spark.rdd.RDDOperationScope$.withScope(RDDOperationScope.scala:151)\r\n\tat org.apache.spark.rdd.RDDOperationScope$.withScope(RDDOperationScope.scala:112)\r\n\tat org.apache.spark.rdd.RDD.withScope(RDD.scala:407)\r\n\tat org.apache.spark.rdd.RDD.fold(RDD.scala:1193)\r\n\tat org.apache.spark.rdd.RDD.$anonfun$treeAggregate$2(RDD.scala:1286)\r\n\tat org.apache.spark.rdd.RDDOperationScope$.withScope(RDDOperationScope.scala:151)\r\n\tat org.apache.spark.rdd.RDDOperationScope$.withScope(RDDOperationScope.scala:112)\r\n\tat org.apache.spark.rdd.RDD.withScope(RDD.scala:407)\r\n\tat org.apache.spark.rdd.RDD.treeAggregate(RDD.scala:1253)\r\n\tat org.apache.spark.rdd.RDD.$anonfun$treeAggregate$1(RDD.scala:1239)\r\n\tat org.apache.spark.rdd.RDDOperationScope$.withScope(RDDOperationScope.scala:151)\r\n\tat org.apache.spark.rdd.RDDOperationScope$.withScope(RDDOperationScope.scala:112)\r\n\tat org.apache.spark.rdd.RDD.withScope(RDD.scala:407)\r\n\tat org.apache.spark.rdd.RDD.treeAggregate(RDD.scala:1239)\r\n\tat org.apache.spark.ml.stat.Summarizer$.getClassificationSummarizers(Summarizer.scala:233)\r\n\tat org.apache.spark.ml.classification.LinearSVC.$anonfun$train$1(LinearSVC.scala:192)\r\n\tat org.apache.spark.ml.util.Instrumentation$.$anonfun$instrumented$1(Instrumentation.scala:191)\r\n\tat scala.util.Try$.apply(Try.scala:213)\r\n\tat org.apache.spark.ml.util.Instrumentation$.instrumented(Instrumentation.scala:191)\r\n\tat org.apache.spark.ml.classification.LinearSVC.train(LinearSVC.scala:172)\r\n\tat org.apache.spark.ml.classification.LinearSVC.train(LinearSVC.scala:77)\r\n\tat org.apache.spark.ml.Predictor.fit(Predictor.scala:114)\r\n\tat org.apache.spark.ml.Predictor.fit(Predictor.scala:78)\r\n\tat java.base/jdk.internal.reflect.NativeMethodAccessorImpl.invoke0(Native Method)\r\n\tat java.base/jdk.internal.reflect.NativeMethodAccessorImpl.invoke(NativeMethodAccessorImpl.java:77)\r\n\tat java.base/jdk.internal.reflect.DelegatingMethodAccessorImpl.invoke(DelegatingMethodAccessorImpl.java:43)\r\n\tat java.base/java.lang.reflect.Method.invoke(Method.java:568)\r\n\tat py4j.reflection.MethodInvoker.invoke(MethodInvoker.java:244)\r\n\tat py4j.reflection.ReflectionEngine.invoke(ReflectionEngine.java:374)\r\n\tat py4j.Gateway.invoke(Gateway.java:282)\r\n\tat py4j.commands.AbstractCommand.invokeMethod(AbstractCommand.java:132)\r\n\tat py4j.commands.CallCommand.execute(CallCommand.java:79)\r\n\tat py4j.ClientServerConnection.waitForCommands(ClientServerConnection.java:182)\r\n\tat py4j.ClientServerConnection.run(ClientServerConnection.java:106)\r\n\tat java.base/java.lang.Thread.run(Thread.java:842)\r\nCaused by: java.lang.RuntimeException: Labels MUST be in {0, 1}, but got 2.0\r\n\tat org.apache.spark.sql.catalyst.expressions.GeneratedClass$GeneratedIteratorForCodegenStage1.project_doConsume_0$(Unknown Source)\r\n\tat org.apache.spark.sql.catalyst.expressions.GeneratedClass$GeneratedIteratorForCodegenStage1.processNext(Unknown Source)\r\n\tat org.apache.spark.sql.execution.BufferedRowIterator.hasNext(BufferedRowIterator.java:43)\r\n\tat org.apache.spark.sql.execution.WholeStageCodegenEvaluatorFactory$WholeStageCodegenPartitionEvaluator$$anon$1.hasNext(WholeStageCodegenEvaluatorFactory.scala:43)\r\n\tat scala.collection.Iterator$$anon$10.hasNext(Iterator.scala:460)\r\n\tat scala.collection.Iterator$$anon$10.hasNext(Iterator.scala:460)\r\n\tat scala.collection.Iterator$$anon$10.hasNext(Iterator.scala:460)\r\n\tat scala.collection.Iterator.foreach(Iterator.scala:943)\r\n\tat scala.collection.Iterator.foreach$(Iterator.scala:943)\r\n\tat scala.collection.AbstractIterator.foreach(Iterator.scala:1431)\r\n\tat scala.collection.TraversableOnce.foldLeft(TraversableOnce.scala:199)\r\n\tat scala.collection.TraversableOnce.foldLeft$(TraversableOnce.scala:192)\r\n\tat scala.collection.AbstractIterator.foldLeft(Iterator.scala:1431)\r\n\tat scala.collection.TraversableOnce.aggregate(TraversableOnce.scala:260)\r\n\tat scala.collection.TraversableOnce.aggregate$(TraversableOnce.scala:260)\r\n\tat scala.collection.AbstractIterator.aggregate(Iterator.scala:1431)\r\n\tat org.apache.spark.rdd.RDD.$anonfun$treeAggregate$4(RDD.scala:1261)\r\n\tat org.apache.spark.rdd.RDD.$anonfun$treeAggregate$6(RDD.scala:1262)\r\n\tat org.apache.spark.rdd.RDD.$anonfun$mapPartitions$2(RDD.scala:855)\r\n\tat org.apache.spark.rdd.RDD.$anonfun$mapPartitions$2$adapted(RDD.scala:855)\r\n\tat org.apache.spark.rdd.MapPartitionsRDD.compute(MapPartitionsRDD.scala:52)\r\n\tat org.apache.spark.rdd.RDD.computeOrReadCheckpoint(RDD.scala:364)\r\n\tat org.apache.spark.rdd.RDD.iterator(RDD.scala:328)\r\n\tat org.apache.spark.rdd.MapPartitionsRDD.compute(MapPartitionsRDD.scala:52)\r\n\tat org.apache.spark.rdd.RDD.computeOrReadCheckpoint(RDD.scala:364)\r\n\tat org.apache.spark.rdd.RDD.iterator(RDD.scala:328)\r\n\tat org.apache.spark.shuffle.ShuffleWriteProcessor.write(ShuffleWriteProcessor.scala:59)\r\n\tat org.apache.spark.scheduler.ShuffleMapTask.runTask(ShuffleMapTask.scala:104)\r\n\tat org.apache.spark.scheduler.ShuffleMapTask.runTask(ShuffleMapTask.scala:54)\r\n\tat org.apache.spark.TaskContext.runTaskWithListeners(TaskContext.scala:161)\r\n\tat org.apache.spark.scheduler.Task.run(Task.scala:141)\r\n\tat org.apache.spark.executor.Executor$TaskRunner.$anonfun$run$4(Executor.scala:620)\r\n\tat org.apache.spark.util.SparkErrorUtils.tryWithSafeFinally(SparkErrorUtils.scala:64)\r\n\tat org.apache.spark.util.SparkErrorUtils.tryWithSafeFinally$(SparkErrorUtils.scala:61)\r\n\tat org.apache.spark.util.Utils$.tryWithSafeFinally(Utils.scala:94)\r\n\tat org.apache.spark.executor.Executor$TaskRunner.run(Executor.scala:623)\r\n\tat java.base/java.util.concurrent.ThreadPoolExecutor.runWorker(ThreadPoolExecutor.java:1136)\r\n\tat java.base/java.util.concurrent.ThreadPoolExecutor$Worker.run(ThreadPoolExecutor.java:635)\r\n\t... 1 more\r\n",
     "output_type": "error",
     "traceback": [
      "\u001b[1;31m---------------------------------------------------------------------------\u001b[0m",
      "\u001b[1;31mPy4JJavaError\u001b[0m                             Traceback (most recent call last)",
      "\u001b[1;32mUntitled-1.ipynb Cell 23\u001b[0m line \u001b[0;36m5\n\u001b[0;32m      <a href='vscode-notebook-cell:Untitled-1.ipynb?jupyter-notebook#X36sdW50aXRsZWQ%3D?line=1'>2</a>\u001b[0m train_data, test_data \u001b[39m=\u001b[39m spark_df\u001b[39m.\u001b[39mrandomSplit([\u001b[39m0.8\u001b[39m, \u001b[39m0.2\u001b[39m], seed\u001b[39m=\u001b[39m\u001b[39m42\u001b[39m)\n\u001b[0;32m      <a href='vscode-notebook-cell:Untitled-1.ipynb?jupyter-notebook#X36sdW50aXRsZWQ%3D?line=3'>4</a>\u001b[0m \u001b[39mfor\u001b[39;00m name,model \u001b[39min\u001b[39;00m models:\n\u001b[1;32m----> <a href='vscode-notebook-cell:Untitled-1.ipynb?jupyter-notebook#X36sdW50aXRsZWQ%3D?line=4'>5</a>\u001b[0m     base_model \u001b[39m=\u001b[39m model\u001b[39m.\u001b[39;49mfit(train_data)   \n\u001b[0;32m      <a href='vscode-notebook-cell:Untitled-1.ipynb?jupyter-notebook#X36sdW50aXRsZWQ%3D?line=5'>6</a>\u001b[0m     predictions \u001b[39m=\u001b[39m base_model\u001b[39m.\u001b[39mtransform(test_data)\n\u001b[0;32m      <a href='vscode-notebook-cell:Untitled-1.ipynb?jupyter-notebook#X36sdW50aXRsZWQ%3D?line=6'>7</a>\u001b[0m     evaluator \u001b[39m=\u001b[39m MulticlassClassificationEvaluator(labelCol\u001b[39m=\u001b[39m\u001b[39m\"\u001b[39m\u001b[39mprice_range\u001b[39m\u001b[39m\"\u001b[39m,metricName\u001b[39m=\u001b[39m\u001b[39m\"\u001b[39m\u001b[39maccuracy\u001b[39m\u001b[39m\"\u001b[39m)\n",
      "File \u001b[1;32mc:\\Users\\Enes\\AppData\\Local\\Programs\\Python\\Python311\\Lib\\site-packages\\pyspark\\ml\\base.py:205\u001b[0m, in \u001b[0;36mEstimator.fit\u001b[1;34m(self, dataset, params)\u001b[0m\n\u001b[0;32m    203\u001b[0m         \u001b[39mreturn\u001b[39;00m \u001b[39mself\u001b[39m\u001b[39m.\u001b[39mcopy(params)\u001b[39m.\u001b[39m_fit(dataset)\n\u001b[0;32m    204\u001b[0m     \u001b[39melse\u001b[39;00m:\n\u001b[1;32m--> 205\u001b[0m         \u001b[39mreturn\u001b[39;00m \u001b[39mself\u001b[39;49m\u001b[39m.\u001b[39;49m_fit(dataset)\n\u001b[0;32m    206\u001b[0m \u001b[39melse\u001b[39;00m:\n\u001b[0;32m    207\u001b[0m     \u001b[39mraise\u001b[39;00m \u001b[39mTypeError\u001b[39;00m(\n\u001b[0;32m    208\u001b[0m         \u001b[39m\"\u001b[39m\u001b[39mParams must be either a param map or a list/tuple of param maps, \u001b[39m\u001b[39m\"\u001b[39m\n\u001b[0;32m    209\u001b[0m         \u001b[39m\"\u001b[39m\u001b[39mbut got \u001b[39m\u001b[39m%s\u001b[39;00m\u001b[39m.\u001b[39m\u001b[39m\"\u001b[39m \u001b[39m%\u001b[39m \u001b[39mtype\u001b[39m(params)\n\u001b[0;32m    210\u001b[0m     )\n",
      "File \u001b[1;32mc:\\Users\\Enes\\AppData\\Local\\Programs\\Python\\Python311\\Lib\\site-packages\\pyspark\\ml\\wrapper.py:381\u001b[0m, in \u001b[0;36mJavaEstimator._fit\u001b[1;34m(self, dataset)\u001b[0m\n\u001b[0;32m    380\u001b[0m \u001b[39mdef\u001b[39;00m \u001b[39m_fit\u001b[39m(\u001b[39mself\u001b[39m, dataset: DataFrame) \u001b[39m-\u001b[39m\u001b[39m>\u001b[39m JM:\n\u001b[1;32m--> 381\u001b[0m     java_model \u001b[39m=\u001b[39m \u001b[39mself\u001b[39;49m\u001b[39m.\u001b[39;49m_fit_java(dataset)\n\u001b[0;32m    382\u001b[0m     model \u001b[39m=\u001b[39m \u001b[39mself\u001b[39m\u001b[39m.\u001b[39m_create_model(java_model)\n\u001b[0;32m    383\u001b[0m     \u001b[39mreturn\u001b[39;00m \u001b[39mself\u001b[39m\u001b[39m.\u001b[39m_copyValues(model)\n",
      "File \u001b[1;32mc:\\Users\\Enes\\AppData\\Local\\Programs\\Python\\Python311\\Lib\\site-packages\\pyspark\\ml\\wrapper.py:378\u001b[0m, in \u001b[0;36mJavaEstimator._fit_java\u001b[1;34m(self, dataset)\u001b[0m\n\u001b[0;32m    375\u001b[0m \u001b[39massert\u001b[39;00m \u001b[39mself\u001b[39m\u001b[39m.\u001b[39m_java_obj \u001b[39mis\u001b[39;00m \u001b[39mnot\u001b[39;00m \u001b[39mNone\u001b[39;00m\n\u001b[0;32m    377\u001b[0m \u001b[39mself\u001b[39m\u001b[39m.\u001b[39m_transfer_params_to_java()\n\u001b[1;32m--> 378\u001b[0m \u001b[39mreturn\u001b[39;00m \u001b[39mself\u001b[39;49m\u001b[39m.\u001b[39;49m_java_obj\u001b[39m.\u001b[39;49mfit(dataset\u001b[39m.\u001b[39;49m_jdf)\n",
      "File \u001b[1;32mc:\\Users\\Enes\\AppData\\Local\\Programs\\Python\\Python311\\Lib\\site-packages\\py4j\\java_gateway.py:1322\u001b[0m, in \u001b[0;36mJavaMember.__call__\u001b[1;34m(self, *args)\u001b[0m\n\u001b[0;32m   1316\u001b[0m command \u001b[39m=\u001b[39m proto\u001b[39m.\u001b[39mCALL_COMMAND_NAME \u001b[39m+\u001b[39m\\\n\u001b[0;32m   1317\u001b[0m     \u001b[39mself\u001b[39m\u001b[39m.\u001b[39mcommand_header \u001b[39m+\u001b[39m\\\n\u001b[0;32m   1318\u001b[0m     args_command \u001b[39m+\u001b[39m\\\n\u001b[0;32m   1319\u001b[0m     proto\u001b[39m.\u001b[39mEND_COMMAND_PART\n\u001b[0;32m   1321\u001b[0m answer \u001b[39m=\u001b[39m \u001b[39mself\u001b[39m\u001b[39m.\u001b[39mgateway_client\u001b[39m.\u001b[39msend_command(command)\n\u001b[1;32m-> 1322\u001b[0m return_value \u001b[39m=\u001b[39m get_return_value(\n\u001b[0;32m   1323\u001b[0m     answer, \u001b[39mself\u001b[39;49m\u001b[39m.\u001b[39;49mgateway_client, \u001b[39mself\u001b[39;49m\u001b[39m.\u001b[39;49mtarget_id, \u001b[39mself\u001b[39;49m\u001b[39m.\u001b[39;49mname)\n\u001b[0;32m   1325\u001b[0m \u001b[39mfor\u001b[39;00m temp_arg \u001b[39min\u001b[39;00m temp_args:\n\u001b[0;32m   1326\u001b[0m     \u001b[39mif\u001b[39;00m \u001b[39mhasattr\u001b[39m(temp_arg, \u001b[39m\"\u001b[39m\u001b[39m_detach\u001b[39m\u001b[39m\"\u001b[39m):\n",
      "File \u001b[1;32mc:\\Users\\Enes\\AppData\\Local\\Programs\\Python\\Python311\\Lib\\site-packages\\pyspark\\errors\\exceptions\\captured.py:179\u001b[0m, in \u001b[0;36mcapture_sql_exception.<locals>.deco\u001b[1;34m(*a, **kw)\u001b[0m\n\u001b[0;32m    177\u001b[0m \u001b[39mdef\u001b[39;00m \u001b[39mdeco\u001b[39m(\u001b[39m*\u001b[39ma: Any, \u001b[39m*\u001b[39m\u001b[39m*\u001b[39mkw: Any) \u001b[39m-\u001b[39m\u001b[39m>\u001b[39m Any:\n\u001b[0;32m    178\u001b[0m     \u001b[39mtry\u001b[39;00m:\n\u001b[1;32m--> 179\u001b[0m         \u001b[39mreturn\u001b[39;00m f(\u001b[39m*\u001b[39;49ma, \u001b[39m*\u001b[39;49m\u001b[39m*\u001b[39;49mkw)\n\u001b[0;32m    180\u001b[0m     \u001b[39mexcept\u001b[39;00m Py4JJavaError \u001b[39mas\u001b[39;00m e:\n\u001b[0;32m    181\u001b[0m         converted \u001b[39m=\u001b[39m convert_exception(e\u001b[39m.\u001b[39mjava_exception)\n",
      "File \u001b[1;32mc:\\Users\\Enes\\AppData\\Local\\Programs\\Python\\Python311\\Lib\\site-packages\\py4j\\protocol.py:326\u001b[0m, in \u001b[0;36mget_return_value\u001b[1;34m(answer, gateway_client, target_id, name)\u001b[0m\n\u001b[0;32m    324\u001b[0m value \u001b[39m=\u001b[39m OUTPUT_CONVERTER[\u001b[39mtype\u001b[39m](answer[\u001b[39m2\u001b[39m:], gateway_client)\n\u001b[0;32m    325\u001b[0m \u001b[39mif\u001b[39;00m answer[\u001b[39m1\u001b[39m] \u001b[39m==\u001b[39m REFERENCE_TYPE:\n\u001b[1;32m--> 326\u001b[0m     \u001b[39mraise\u001b[39;00m Py4JJavaError(\n\u001b[0;32m    327\u001b[0m         \u001b[39m\"\u001b[39m\u001b[39mAn error occurred while calling \u001b[39m\u001b[39m{0}\u001b[39;00m\u001b[39m{1}\u001b[39;00m\u001b[39m{2}\u001b[39;00m\u001b[39m.\u001b[39m\u001b[39m\\n\u001b[39;00m\u001b[39m\"\u001b[39m\u001b[39m.\u001b[39m\n\u001b[0;32m    328\u001b[0m         \u001b[39mformat\u001b[39m(target_id, \u001b[39m\"\u001b[39m\u001b[39m.\u001b[39m\u001b[39m\"\u001b[39m, name), value)\n\u001b[0;32m    329\u001b[0m \u001b[39melse\u001b[39;00m:\n\u001b[0;32m    330\u001b[0m     \u001b[39mraise\u001b[39;00m Py4JError(\n\u001b[0;32m    331\u001b[0m         \u001b[39m\"\u001b[39m\u001b[39mAn error occurred while calling \u001b[39m\u001b[39m{0}\u001b[39;00m\u001b[39m{1}\u001b[39;00m\u001b[39m{2}\u001b[39;00m\u001b[39m. Trace:\u001b[39m\u001b[39m\\n\u001b[39;00m\u001b[39m{3}\u001b[39;00m\u001b[39m\\n\u001b[39;00m\u001b[39m\"\u001b[39m\u001b[39m.\u001b[39m\n\u001b[0;32m    332\u001b[0m         \u001b[39mformat\u001b[39m(target_id, \u001b[39m\"\u001b[39m\u001b[39m.\u001b[39m\u001b[39m\"\u001b[39m, name, value))\n",
      "\u001b[1;31mPy4JJavaError\u001b[0m: An error occurred while calling o3170.fit.\n: org.apache.spark.SparkException: Job aborted due to stage failure: Task 12 in stage 1612.0 failed 1 times, most recent failure: Lost task 12.0 in stage 1612.0 (TID 5908) (ENES-PC executor driver): java.lang.RuntimeException: Labels MUST be in {0, 1}, but got 2.0\r\n\tat org.apache.spark.sql.catalyst.expressions.GeneratedClass$GeneratedIteratorForCodegenStage1.project_doConsume_0$(Unknown Source)\r\n\tat org.apache.spark.sql.catalyst.expressions.GeneratedClass$GeneratedIteratorForCodegenStage1.processNext(Unknown Source)\r\n\tat org.apache.spark.sql.execution.BufferedRowIterator.hasNext(BufferedRowIterator.java:43)\r\n\tat org.apache.spark.sql.execution.WholeStageCodegenEvaluatorFactory$WholeStageCodegenPartitionEvaluator$$anon$1.hasNext(WholeStageCodegenEvaluatorFactory.scala:43)\r\n\tat scala.collection.Iterator$$anon$10.hasNext(Iterator.scala:460)\r\n\tat scala.collection.Iterator$$anon$10.hasNext(Iterator.scala:460)\r\n\tat scala.collection.Iterator$$anon$10.hasNext(Iterator.scala:460)\r\n\tat scala.collection.Iterator.foreach(Iterator.scala:943)\r\n\tat scala.collection.Iterator.foreach$(Iterator.scala:943)\r\n\tat scala.collection.AbstractIterator.foreach(Iterator.scala:1431)\r\n\tat scala.collection.TraversableOnce.foldLeft(TraversableOnce.scala:199)\r\n\tat scala.collection.TraversableOnce.foldLeft$(TraversableOnce.scala:192)\r\n\tat scala.collection.AbstractIterator.foldLeft(Iterator.scala:1431)\r\n\tat scala.collection.TraversableOnce.aggregate(TraversableOnce.scala:260)\r\n\tat scala.collection.TraversableOnce.aggregate$(TraversableOnce.scala:260)\r\n\tat scala.collection.AbstractIterator.aggregate(Iterator.scala:1431)\r\n\tat org.apache.spark.rdd.RDD.$anonfun$treeAggregate$4(RDD.scala:1261)\r\n\tat org.apache.spark.rdd.RDD.$anonfun$treeAggregate$6(RDD.scala:1262)\r\n\tat org.apache.spark.rdd.RDD.$anonfun$mapPartitions$2(RDD.scala:855)\r\n\tat org.apache.spark.rdd.RDD.$anonfun$mapPartitions$2$adapted(RDD.scala:855)\r\n\tat org.apache.spark.rdd.MapPartitionsRDD.compute(MapPartitionsRDD.scala:52)\r\n\tat org.apache.spark.rdd.RDD.computeOrReadCheckpoint(RDD.scala:364)\r\n\tat org.apache.spark.rdd.RDD.iterator(RDD.scala:328)\r\n\tat org.apache.spark.rdd.MapPartitionsRDD.compute(MapPartitionsRDD.scala:52)\r\n\tat org.apache.spark.rdd.RDD.computeOrReadCheckpoint(RDD.scala:364)\r\n\tat org.apache.spark.rdd.RDD.iterator(RDD.scala:328)\r\n\tat org.apache.spark.shuffle.ShuffleWriteProcessor.write(ShuffleWriteProcessor.scala:59)\r\n\tat org.apache.spark.scheduler.ShuffleMapTask.runTask(ShuffleMapTask.scala:104)\r\n\tat org.apache.spark.scheduler.ShuffleMapTask.runTask(ShuffleMapTask.scala:54)\r\n\tat org.apache.spark.TaskContext.runTaskWithListeners(TaskContext.scala:161)\r\n\tat org.apache.spark.scheduler.Task.run(Task.scala:141)\r\n\tat org.apache.spark.executor.Executor$TaskRunner.$anonfun$run$4(Executor.scala:620)\r\n\tat org.apache.spark.util.SparkErrorUtils.tryWithSafeFinally(SparkErrorUtils.scala:64)\r\n\tat org.apache.spark.util.SparkErrorUtils.tryWithSafeFinally$(SparkErrorUtils.scala:61)\r\n\tat org.apache.spark.util.Utils$.tryWithSafeFinally(Utils.scala:94)\r\n\tat org.apache.spark.executor.Executor$TaskRunner.run(Executor.scala:623)\r\n\tat java.base/java.util.concurrent.ThreadPoolExecutor.runWorker(ThreadPoolExecutor.java:1136)\r\n\tat java.base/java.util.concurrent.ThreadPoolExecutor$Worker.run(ThreadPoolExecutor.java:635)\r\n\tat java.base/java.lang.Thread.run(Thread.java:842)\r\n\nDriver stacktrace:\r\n\tat org.apache.spark.scheduler.DAGScheduler.failJobAndIndependentStages(DAGScheduler.scala:2844)\r\n\tat org.apache.spark.scheduler.DAGScheduler.$anonfun$abortStage$2(DAGScheduler.scala:2780)\r\n\tat org.apache.spark.scheduler.DAGScheduler.$anonfun$abortStage$2$adapted(DAGScheduler.scala:2779)\r\n\tat scala.collection.mutable.ResizableArray.foreach(ResizableArray.scala:62)\r\n\tat scala.collection.mutable.ResizableArray.foreach$(ResizableArray.scala:55)\r\n\tat scala.collection.mutable.ArrayBuffer.foreach(ArrayBuffer.scala:49)\r\n\tat org.apache.spark.scheduler.DAGScheduler.abortStage(DAGScheduler.scala:2779)\r\n\tat org.apache.spark.scheduler.DAGScheduler.$anonfun$handleTaskSetFailed$1(DAGScheduler.scala:1242)\r\n\tat org.apache.spark.scheduler.DAGScheduler.$anonfun$handleTaskSetFailed$1$adapted(DAGScheduler.scala:1242)\r\n\tat scala.Option.foreach(Option.scala:407)\r\n\tat org.apache.spark.scheduler.DAGScheduler.handleTaskSetFailed(DAGScheduler.scala:1242)\r\n\tat org.apache.spark.scheduler.DAGSchedulerEventProcessLoop.doOnReceive(DAGScheduler.scala:3048)\r\n\tat org.apache.spark.scheduler.DAGSchedulerEventProcessLoop.onReceive(DAGScheduler.scala:2982)\r\n\tat org.apache.spark.scheduler.DAGSchedulerEventProcessLoop.onReceive(DAGScheduler.scala:2971)\r\n\tat org.apache.spark.util.EventLoop$$anon$1.run(EventLoop.scala:49)\r\n\tat org.apache.spark.scheduler.DAGScheduler.runJob(DAGScheduler.scala:984)\r\n\tat org.apache.spark.SparkContext.runJob(SparkContext.scala:2398)\r\n\tat org.apache.spark.SparkContext.runJob(SparkContext.scala:2493)\r\n\tat org.apache.spark.rdd.RDD.$anonfun$fold$1(RDD.scala:1199)\r\n\tat org.apache.spark.rdd.RDDOperationScope$.withScope(RDDOperationScope.scala:151)\r\n\tat org.apache.spark.rdd.RDDOperationScope$.withScope(RDDOperationScope.scala:112)\r\n\tat org.apache.spark.rdd.RDD.withScope(RDD.scala:407)\r\n\tat org.apache.spark.rdd.RDD.fold(RDD.scala:1193)\r\n\tat org.apache.spark.rdd.RDD.$anonfun$treeAggregate$2(RDD.scala:1286)\r\n\tat org.apache.spark.rdd.RDDOperationScope$.withScope(RDDOperationScope.scala:151)\r\n\tat org.apache.spark.rdd.RDDOperationScope$.withScope(RDDOperationScope.scala:112)\r\n\tat org.apache.spark.rdd.RDD.withScope(RDD.scala:407)\r\n\tat org.apache.spark.rdd.RDD.treeAggregate(RDD.scala:1253)\r\n\tat org.apache.spark.rdd.RDD.$anonfun$treeAggregate$1(RDD.scala:1239)\r\n\tat org.apache.spark.rdd.RDDOperationScope$.withScope(RDDOperationScope.scala:151)\r\n\tat org.apache.spark.rdd.RDDOperationScope$.withScope(RDDOperationScope.scala:112)\r\n\tat org.apache.spark.rdd.RDD.withScope(RDD.scala:407)\r\n\tat org.apache.spark.rdd.RDD.treeAggregate(RDD.scala:1239)\r\n\tat org.apache.spark.ml.stat.Summarizer$.getClassificationSummarizers(Summarizer.scala:233)\r\n\tat org.apache.spark.ml.classification.LinearSVC.$anonfun$train$1(LinearSVC.scala:192)\r\n\tat org.apache.spark.ml.util.Instrumentation$.$anonfun$instrumented$1(Instrumentation.scala:191)\r\n\tat scala.util.Try$.apply(Try.scala:213)\r\n\tat org.apache.spark.ml.util.Instrumentation$.instrumented(Instrumentation.scala:191)\r\n\tat org.apache.spark.ml.classification.LinearSVC.train(LinearSVC.scala:172)\r\n\tat org.apache.spark.ml.classification.LinearSVC.train(LinearSVC.scala:77)\r\n\tat org.apache.spark.ml.Predictor.fit(Predictor.scala:114)\r\n\tat org.apache.spark.ml.Predictor.fit(Predictor.scala:78)\r\n\tat java.base/jdk.internal.reflect.NativeMethodAccessorImpl.invoke0(Native Method)\r\n\tat java.base/jdk.internal.reflect.NativeMethodAccessorImpl.invoke(NativeMethodAccessorImpl.java:77)\r\n\tat java.base/jdk.internal.reflect.DelegatingMethodAccessorImpl.invoke(DelegatingMethodAccessorImpl.java:43)\r\n\tat java.base/java.lang.reflect.Method.invoke(Method.java:568)\r\n\tat py4j.reflection.MethodInvoker.invoke(MethodInvoker.java:244)\r\n\tat py4j.reflection.ReflectionEngine.invoke(ReflectionEngine.java:374)\r\n\tat py4j.Gateway.invoke(Gateway.java:282)\r\n\tat py4j.commands.AbstractCommand.invokeMethod(AbstractCommand.java:132)\r\n\tat py4j.commands.CallCommand.execute(CallCommand.java:79)\r\n\tat py4j.ClientServerConnection.waitForCommands(ClientServerConnection.java:182)\r\n\tat py4j.ClientServerConnection.run(ClientServerConnection.java:106)\r\n\tat java.base/java.lang.Thread.run(Thread.java:842)\r\nCaused by: java.lang.RuntimeException: Labels MUST be in {0, 1}, but got 2.0\r\n\tat org.apache.spark.sql.catalyst.expressions.GeneratedClass$GeneratedIteratorForCodegenStage1.project_doConsume_0$(Unknown Source)\r\n\tat org.apache.spark.sql.catalyst.expressions.GeneratedClass$GeneratedIteratorForCodegenStage1.processNext(Unknown Source)\r\n\tat org.apache.spark.sql.execution.BufferedRowIterator.hasNext(BufferedRowIterator.java:43)\r\n\tat org.apache.spark.sql.execution.WholeStageCodegenEvaluatorFactory$WholeStageCodegenPartitionEvaluator$$anon$1.hasNext(WholeStageCodegenEvaluatorFactory.scala:43)\r\n\tat scala.collection.Iterator$$anon$10.hasNext(Iterator.scala:460)\r\n\tat scala.collection.Iterator$$anon$10.hasNext(Iterator.scala:460)\r\n\tat scala.collection.Iterator$$anon$10.hasNext(Iterator.scala:460)\r\n\tat scala.collection.Iterator.foreach(Iterator.scala:943)\r\n\tat scala.collection.Iterator.foreach$(Iterator.scala:943)\r\n\tat scala.collection.AbstractIterator.foreach(Iterator.scala:1431)\r\n\tat scala.collection.TraversableOnce.foldLeft(TraversableOnce.scala:199)\r\n\tat scala.collection.TraversableOnce.foldLeft$(TraversableOnce.scala:192)\r\n\tat scala.collection.AbstractIterator.foldLeft(Iterator.scala:1431)\r\n\tat scala.collection.TraversableOnce.aggregate(TraversableOnce.scala:260)\r\n\tat scala.collection.TraversableOnce.aggregate$(TraversableOnce.scala:260)\r\n\tat scala.collection.AbstractIterator.aggregate(Iterator.scala:1431)\r\n\tat org.apache.spark.rdd.RDD.$anonfun$treeAggregate$4(RDD.scala:1261)\r\n\tat org.apache.spark.rdd.RDD.$anonfun$treeAggregate$6(RDD.scala:1262)\r\n\tat org.apache.spark.rdd.RDD.$anonfun$mapPartitions$2(RDD.scala:855)\r\n\tat org.apache.spark.rdd.RDD.$anonfun$mapPartitions$2$adapted(RDD.scala:855)\r\n\tat org.apache.spark.rdd.MapPartitionsRDD.compute(MapPartitionsRDD.scala:52)\r\n\tat org.apache.spark.rdd.RDD.computeOrReadCheckpoint(RDD.scala:364)\r\n\tat org.apache.spark.rdd.RDD.iterator(RDD.scala:328)\r\n\tat org.apache.spark.rdd.MapPartitionsRDD.compute(MapPartitionsRDD.scala:52)\r\n\tat org.apache.spark.rdd.RDD.computeOrReadCheckpoint(RDD.scala:364)\r\n\tat org.apache.spark.rdd.RDD.iterator(RDD.scala:328)\r\n\tat org.apache.spark.shuffle.ShuffleWriteProcessor.write(ShuffleWriteProcessor.scala:59)\r\n\tat org.apache.spark.scheduler.ShuffleMapTask.runTask(ShuffleMapTask.scala:104)\r\n\tat org.apache.spark.scheduler.ShuffleMapTask.runTask(ShuffleMapTask.scala:54)\r\n\tat org.apache.spark.TaskContext.runTaskWithListeners(TaskContext.scala:161)\r\n\tat org.apache.spark.scheduler.Task.run(Task.scala:141)\r\n\tat org.apache.spark.executor.Executor$TaskRunner.$anonfun$run$4(Executor.scala:620)\r\n\tat org.apache.spark.util.SparkErrorUtils.tryWithSafeFinally(SparkErrorUtils.scala:64)\r\n\tat org.apache.spark.util.SparkErrorUtils.tryWithSafeFinally$(SparkErrorUtils.scala:61)\r\n\tat org.apache.spark.util.Utils$.tryWithSafeFinally(Utils.scala:94)\r\n\tat org.apache.spark.executor.Executor$TaskRunner.run(Executor.scala:623)\r\n\tat java.base/java.util.concurrent.ThreadPoolExecutor.runWorker(ThreadPoolExecutor.java:1136)\r\n\tat java.base/java.util.concurrent.ThreadPoolExecutor$Worker.run(ThreadPoolExecutor.java:635)\r\n\t... 1 more\r\n"
     ]
    }
   ],
   "source": [
    "# Veriyi train ve test setlerine ayır\n",
    "train_data, test_data = spark_df.randomSplit([0.8, 0.2], seed=42)\n",
    "\n",
    "for name,model in models:\n",
    "    base_model = model.fit(train_data)   \n",
    "    predictions = base_model.transform(test_data)\n",
    "    evaluator = MulticlassClassificationEvaluator(labelCol=\"price_range\",metricName=\"accuracy\")\n",
    "    accuracy = evaluator.evaluate(predictions)\n",
    "    print(f\"########## {name} ##########\")\n",
    "    print(f\"Accuracy: {accuracy}\")\n",
    "    "
   ]
  },
  {
   "cell_type": "code",
   "execution_count": 137,
   "metadata": {},
   "outputs": [
    {
     "name": "stdout",
     "output_type": "stream",
     "text": [
      "Accuracy: 0.8393782383419689\n"
     ]
    }
   ],
   "source": [
    "# Veriyi train ve test setlerine ayır\n",
    "train_data, test_data = spark_df.randomSplit([0.8, 0.2], seed=42)\n",
    "\n",
    "# Modeli oluştur ve eğit\n",
    "dt = DecisionTreeClassifier(labelCol=\"price_range\")\n",
    "model = dt.fit(train_data)\n",
    "predictions = model.transform(test_data)\n",
    "evaluator = MulticlassClassificationEvaluator(labelCol=\"price_range\",metricName=\"accuracy\")\n",
    "accuracy = evaluator.evaluate(predictions)\n",
    "print(f\"Accuracy: {accuracy}\")\n"
   ]
  },
  {
   "cell_type": "code",
   "execution_count": 140,
   "metadata": {},
   "outputs": [
    {
     "name": "stdout",
     "output_type": "stream",
     "text": [
      "Accuracy: 0.844559585492228\n"
     ]
    }
   ],
   "source": [
    "dt = RandomForestClassifier(labelCol=\"price_range\")\n",
    "model = dt.fit(train_data)\n",
    "predictions = model.transform(test_data)\n",
    "evaluator = MulticlassClassificationEvaluator(labelCol=\"price_range\",metricName=\"accuracy\")\n",
    "accuracy = evaluator.evaluate(predictions)\n",
    "print(f\"Accuracy: {accuracy}\")"
   ]
  },
  {
   "cell_type": "code",
   "execution_count": null,
   "metadata": {},
   "outputs": [],
   "source": []
  }
 ],
 "metadata": {
  "kernelspec": {
   "display_name": "Python 3",
   "language": "python",
   "name": "python3"
  },
  "language_info": {
   "codemirror_mode": {
    "name": "ipython",
    "version": 3
   },
   "file_extension": ".py",
   "mimetype": "text/x-python",
   "name": "python",
   "nbconvert_exporter": "python",
   "pygments_lexer": "ipython3",
   "version": "3.11.5"
  }
 },
 "nbformat": 4,
 "nbformat_minor": 2
}
